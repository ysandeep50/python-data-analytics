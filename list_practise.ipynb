{
 "cells": [
  {
   "cell_type": "code",
   "execution_count": 17,
   "metadata": {},
   "outputs": [
    {
     "name": "stdout",
     "output_type": "stream",
     "text": [
      "[90, 85, 56, 86, 89]\n",
      "89\n",
      "[90, '100', 56, 86, 89]\n",
      "['100', 56]\n",
      "[]\n"
     ]
    }
   ],
   "source": [
    "marks = [90,85,56,86,89]\n",
    "print(marks[4])\n",
    "marks[1]= '100'\n",
    "print(marks)\n",
    "print(marks[1:3])\n"
   ]
  },
  {
   "cell_type": "code",
   "execution_count": 22,
   "metadata": {},
   "outputs": [
    {
     "name": "stdout",
     "output_type": "stream",
     "text": [
      "[45, 65]\n"
     ]
    }
   ],
   "source": [
    "marks = [23,45,65,76,86]\n",
    "print(marks[1:3])"
   ]
  },
  {
   "cell_type": "code",
   "execution_count": 24,
   "metadata": {},
   "outputs": [
    {
     "name": "stdout",
     "output_type": "stream",
     "text": [
      "[1, 4, 6, 5]\n"
     ]
    }
   ],
   "source": [
    "#list methods\n",
    "list = [1,4,6]\n",
    "list.append(5)   #list.append= add new item or value\n",
    "print(list)"
   ]
  },
  {
   "cell_type": "code",
   "execution_count": 30,
   "metadata": {},
   "outputs": [
    {
     "name": "stdout",
     "output_type": "stream",
     "text": [
      "[1, 2, 5, 6]\n"
     ]
    }
   ],
   "source": [
    "list = [2,1,5,6]\n",
    "list.sort()   #list.sort = arange in ascendding order\n",
    "print(list)"
   ]
  },
  {
   "cell_type": "code",
   "execution_count": 31,
   "metadata": {},
   "outputs": [
    {
     "name": "stdout",
     "output_type": "stream",
     "text": [
      "[3, 1, 6, 2]\n"
     ]
    }
   ],
   "source": [
    "list = [2,6,1,3]\n",
    "list.reverse()     #list.reverse= reverse the list\n",
    "print(list)"
   ]
  },
  {
   "cell_type": "code",
   "execution_count": 34,
   "metadata": {},
   "outputs": [
    {
     "name": "stdout",
     "output_type": "stream",
     "text": [
      "None\n",
      "['apple', 'lichi', 'banana']\n"
     ]
    }
   ],
   "source": [
    "list = ['banana','lichi','apple']\n",
    "print(list.reverse())\n",
    "print(list)"
   ]
  },
  {
   "cell_type": "code",
   "execution_count": 36,
   "metadata": {},
   "outputs": [
    {
     "name": "stdout",
     "output_type": "stream",
     "text": [
      "[12, 20, 25, 45]\n"
     ]
    }
   ],
   "source": [
    "list = [12,25,45]\n",
    "list.insert(1,20)   #list.insert= add value at a particular index\n",
    "print(list)\n"
   ]
  },
  {
   "cell_type": "code",
   "execution_count": 38,
   "metadata": {},
   "outputs": [
    {
     "name": "stdout",
     "output_type": "stream",
     "text": [
      "[76, 96, 46]\n"
     ]
    }
   ],
   "source": [
    "list = [23,76,96,46]  #list.remove= delete a particular item or number\n",
    "list.remove(23)\n",
    "print(list)"
   ]
  },
  {
   "cell_type": "code",
   "execution_count": 39,
   "metadata": {},
   "outputs": [
    {
     "name": "stdout",
     "output_type": "stream",
     "text": [
      "[43, 85, 467]\n"
     ]
    }
   ],
   "source": [
    "list = [43,85,95,467]  #;ist.pop= remove value according to index value\n",
    "list.pop(2)\n",
    "print(list)"
   ]
  },
  {
   "cell_type": "markdown",
   "metadata": {},
   "source": [
    "# Tuples in python"
   ]
  },
  {
   "cell_type": "code",
   "execution_count": 42,
   "metadata": {},
   "outputs": [
    {
     "name": "stdout",
     "output_type": "stream",
     "text": [
      "23\n",
      "99\n"
     ]
    }
   ],
   "source": [
    "tuple = (23,56,87,99)\n",
    "print(tuple[0])\n",
    "print(tuple[3])"
   ]
  },
  {
   "cell_type": "code",
   "execution_count": 43,
   "metadata": {},
   "outputs": [
    {
     "name": "stdout",
     "output_type": "stream",
     "text": [
      "(56, 87)\n"
     ]
    }
   ],
   "source": [
    "print(tuple[1:3])"
   ]
  },
  {
   "cell_type": "code",
   "execution_count": 51,
   "metadata": {},
   "outputs": [
    {
     "name": "stdout",
     "output_type": "stream",
     "text": [
      "0\n"
     ]
    }
   ],
   "source": [
    "tup = (1,4,7,4,9)\n",
    "print(tup.index(1))"
   ]
  },
  {
   "cell_type": "code",
   "execution_count": 48,
   "metadata": {},
   "outputs": [
    {
     "name": "stdout",
     "output_type": "stream",
     "text": [
      "2\n"
     ]
    }
   ],
   "source": [
    "print(tup.count(4))"
   ]
  },
  {
   "cell_type": "code",
   "execution_count": 56,
   "metadata": {},
   "outputs": [
    {
     "name": "stdout",
     "output_type": "stream",
     "text": [
      "['sholey', 'diljale', 'king']\n"
     ]
    }
   ],
   "source": [
    "#wap to ask the user to enter names of their 3 favourite movies and store them in a list.\n",
    "a = input(\"enter first movie\")\n",
    "b = input(\"enter second movie\")\n",
    "c = input(\"enter third movie\")\n",
    "print([a,b,c])\n"
   ]
  },
  {
   "cell_type": "code",
   "execution_count": 68,
   "metadata": {},
   "outputs": [
    {
     "name": "stdout",
     "output_type": "stream",
     "text": [
      "3\n",
      "None\n",
      "['A', 'A', 'A', 'B', 'B', 'C', 'D']\n"
     ]
    }
   ],
   "source": [
    "#wap to count the number of students with the\"A\" grade in the following tuple.\n",
    "tup = [\"C\",\"D\",\"A\",\"A\",\"B\",\"B\",\"A\"]\n",
    "print(tup.count(\"A\"))\n",
    "print(tup.sort())\n",
    "print(tup)"
   ]
  },
  {
   "cell_type": "code",
   "execution_count": null,
   "metadata": {},
   "outputs": [],
   "source": []
  }
 ],
 "metadata": {
  "kernelspec": {
   "display_name": "base",
   "language": "python",
   "name": "python3"
  },
  "language_info": {
   "codemirror_mode": {
    "name": "ipython",
    "version": 3
   },
   "file_extension": ".py",
   "mimetype": "text/x-python",
   "name": "python",
   "nbconvert_exporter": "python",
   "pygments_lexer": "ipython3",
   "version": "3.12.4"
  }
 },
 "nbformat": 4,
 "nbformat_minor": 2
}
