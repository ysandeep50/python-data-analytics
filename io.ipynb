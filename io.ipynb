{
 "cells": [
  {
   "cell_type": "code",
   "execution_count": 1,
   "metadata": {},
   "outputs": [
    {
     "name": "stdout",
     "output_type": "stream",
     "text": [
      "123.0\n",
      "33500\n"
     ]
    }
   ],
   "source": [
    "a=55\n",
    "b=67\n",
    "c=500\n",
    "d=b*c\n",
    "c=a+b+c/c\n",
    "print(c)\n",
    "print(d)"
   ]
  },
  {
   "cell_type": "code",
   "execution_count": 6,
   "metadata": {},
   "outputs": [
    {
     "name": "stdout",
     "output_type": "stream",
     "text": [
      "65\n"
     ]
    }
   ],
   "source": [
    "i=50\n",
    "j=15\n",
    "k=i+j\n",
    "print(k)"
   ]
  },
  {
   "cell_type": "code",
   "execution_count": 7,
   "metadata": {},
   "outputs": [
    {
     "name": "stdout",
     "output_type": "stream",
     "text": [
      "Simple Interest Calculator\n",
      "--------------------------\n",
      "principle           150.0K\n",
      "rate                  2.5%\n",
      "time                   10y\n",
      "--------------------------\n",
      "simple interest      37.5K\n",
      "--------------------------\n"
     ]
    }
   ],
   "source": [
    "p = 150000\n",
    "r = 2.5\n",
    "t = 10\n",
    "si = p*r*t/100\n",
    "print(\"Simple Interest Calculator\")\n",
    "print(\"-\"*26)\n",
    "print(f'principle {p/1000:15}K')\n",
    "print(f'rate {r:20}%')\n",
    "print(f'time {t:20}y')\n",
    "print(\"-\"*26)\n",
    "print(f'simple interest {si/1000:9}K')\n",
    "print(\"-\"*26)"
   ]
  },
  {
   "cell_type": "code",
   "execution_count": 8,
   "metadata": {},
   "outputs": [
    {
     "name": "stdout",
     "output_type": "stream",
     "text": [
      "Area of sphere is 314.0\n"
     ]
    }
   ],
   "source": [
    "pi = 3.14\n",
    "r = 5\n",
    "area = 4* pi * r**2\n",
    "print(\"Area of sphere is\", area)"
   ]
  },
  {
   "cell_type": "code",
   "execution_count": null,
   "metadata": {},
   "outputs": [],
   "source": []
  }
 ],
 "metadata": {
  "kernelspec": {
   "display_name": "base",
   "language": "python",
   "name": "python3"
  },
  "language_info": {
   "codemirror_mode": {
    "name": "ipython",
    "version": 3
   },
   "file_extension": ".py",
   "mimetype": "text/x-python",
   "name": "python",
   "nbconvert_exporter": "python",
   "pygments_lexer": "ipython3",
   "version": "3.12.4"
  }
 },
 "nbformat": 4,
 "nbformat_minor": 2
}
