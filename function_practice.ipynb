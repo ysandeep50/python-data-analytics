{
 "cells": [
  {
   "cell_type": "code",
   "execution_count": 1,
   "metadata": {},
   "outputs": [],
   "source": [
    "import math"
   ]
  },
  {
   "cell_type": "code",
   "execution_count": 2,
   "metadata": {},
   "outputs": [
    {
     "data": {
      "text/plain": [
       "120"
      ]
     },
     "execution_count": 2,
     "metadata": {},
     "output_type": "execute_result"
    }
   ],
   "source": [
    "math.factorial(5)"
   ]
  },
  {
   "cell_type": "code",
   "execution_count": 3,
   "metadata": {},
   "outputs": [
    {
     "data": {
      "text/plain": [
       "3628800"
      ]
     },
     "execution_count": 3,
     "metadata": {},
     "output_type": "execute_result"
    }
   ],
   "source": [
    "math.factorial(10)"
   ]
  },
  {
   "cell_type": "code",
   "execution_count": 4,
   "metadata": {},
   "outputs": [],
   "source": [
    "from random import choice"
   ]
  },
  {
   "cell_type": "code",
   "execution_count": 5,
   "metadata": {},
   "outputs": [
    {
     "name": "stdout",
     "output_type": "stream",
     "text": [
      "[12, 15, 20, 25, 30]\n",
      "Your number is: \n",
      "15\n"
     ]
    }
   ],
   "source": [
    "list = [12,15,20,25,30]   #choice = always gives a random number from list\n",
    "print(list)\n",
    "print(\"Your number is: \")\n",
    "print(choice(list))\n"
   ]
  },
  {
   "cell_type": "code",
   "execution_count": 6,
   "metadata": {},
   "outputs": [],
   "source": [
    "from datetime import datetime"
   ]
  },
  {
   "cell_type": "code",
   "execution_count": 7,
   "metadata": {},
   "outputs": [
    {
     "name": "stdout",
     "output_type": "stream",
     "text": [
      "2024-07-28 17:11:31.970337\n",
      "2024-07-28\n",
      "17:11:31.971336\n"
     ]
    }
   ],
   "source": [
    "print(datetime.now())\n",
    "date = datetime.date(datetime.now())\n",
    "print(date)\n",
    "time = datetime.time(datetime.now())\n",
    "print(time)"
   ]
  },
  {
   "cell_type": "code",
   "execution_count": 8,
   "metadata": {},
   "outputs": [
    {
     "name": "stdout",
     "output_type": "stream",
     "text": [
      "12\n",
      "350\n"
     ]
    }
   ],
   "source": [
    "def calc_sum(a,b):\n",
    "    sum = a + b\n",
    "    print(sum)\n",
    "    \n",
    "\n",
    "calc_sum(2,10)\n",
    "calc_sum(100,250)"
   ]
  },
  {
   "cell_type": "code",
   "execution_count": 9,
   "metadata": {},
   "outputs": [
    {
     "name": "stdout",
     "output_type": "stream",
     "text": [
      "25\n",
      "100\n"
     ]
    }
   ],
   "source": [
    "def calc_multiply(a,b):\n",
    "    multiply = a * b\n",
    "    print(multiply)\n",
    "\n",
    "\n",
    "\n",
    "calc_multiply(5,5)\n",
    "calc_multiply(10,10)"
   ]
  },
  {
   "cell_type": "code",
   "execution_count": 10,
   "metadata": {},
   "outputs": [
    {
     "name": "stdout",
     "output_type": "stream",
     "text": [
      "35.0\n",
      "20.0\n",
      "27.599999999999998\n"
     ]
    }
   ],
   "source": [
    "def calc_avg(a,b,c):  #function to find avg of three numbers\n",
    "    sum = a + b + c\n",
    "    avg = sum / 3\n",
    "    print(avg)\n",
    "    \n",
    "\n",
    "calc_avg(45,25,35)\n",
    "calc_avg(10,20,30)\n",
    "calc_avg(25.5,29.5,27.8)"
   ]
  },
  {
   "cell_type": "code",
   "execution_count": 11,
   "metadata": {},
   "outputs": [
    {
     "name": "stdout",
     "output_type": "stream",
     "text": [
      "5\n",
      "4\n"
     ]
    }
   ],
   "source": [
    "#WAF to print the length of a list.\n",
    "fruits= ['Apple','Banana','Grapes','Orange']\n",
    "heros= ['ironman','superman','thor','hulk','flash']\n",
    "def calc_len(list):\n",
    "    print(len(list))\n",
    "\n",
    "calc_len(heros)\n",
    "calc_len(fruits)"
   ]
  },
  {
   "cell_type": "code",
   "execution_count": 13,
   "metadata": {},
   "outputs": [
    {
     "name": "stdout",
     "output_type": "stream",
     "text": [
      "addition:  25\n",
      "subtraction:  -5\n",
      "multiply:  150\n",
      "divide:  0.6666666666666666\n"
     ]
    }
   ],
   "source": [
    "def calculator(a,b):\n",
    "    \n",
    "    print(\"addition: \", a + b)\n",
    "    print(\"subtraction: \", a - b)\n",
    "    print(\"multiply: \", a * b)\n",
    "    print(\"divide: \", a / b)\n",
    "\n",
    "\n",
    "calculator(10,15)\n",
    "\n",
    "    "
   ]
  },
  {
   "cell_type": "code",
   "execution_count": 18,
   "metadata": {},
   "outputs": [
    {
     "name": "stdout",
     "output_type": "stream",
     "text": [
      "good evening Sandeep yadav\n"
     ]
    }
   ],
   "source": [
    "def greet(firstname , lastname):\n",
    "    print(\"good evening\", firstname , lastname)\n",
    "\n",
    "\n",
    "greet('Sandeep' , 'yadav')\n"
   ]
  },
  {
   "cell_type": "code",
   "execution_count": null,
   "metadata": {},
   "outputs": [],
   "source": []
  }
 ],
 "metadata": {
  "kernelspec": {
   "display_name": "base",
   "language": "python",
   "name": "python3"
  },
  "language_info": {
   "codemirror_mode": {
    "name": "ipython",
    "version": 3
   },
   "file_extension": ".py",
   "mimetype": "text/x-python",
   "name": "python",
   "nbconvert_exporter": "python",
   "pygments_lexer": "ipython3",
   "version": "3.12.4"
  }
 },
 "nbformat": 4,
 "nbformat_minor": 2
}
