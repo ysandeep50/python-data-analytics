{
 "cells": [
  {
   "cell_type": "markdown",
   "metadata": {},
   "source": [
    "# Function\n",
    "Function are of two types -\n",
    "- Pre-Defined Function\n",
    "- User Defined FUnction\n",
    "- Pre-Defined function are of two types-\n",
    "  - Built function\n",
    "    print(), input(), len(),type(), int(),sum()\n",
    "    \n",
    "   - modules based function\n",
    "     - local modules\n",
    "       - math\n",
    "       - datetime\n",
    "       - os\n",
    "       - turtle\n",
    "       - random\n",
    "    - 3rd party modules\n",
    "       - numpy\n",
    "       - pandas\n",
    "       - matplotlib\n",
    "       - dputils\n",
    "- user defined function\n",
    "    - function with return value\n",
    "    - non - parameterized functions\n",
    "    - parameterized functions\n",
    "      - required parameters/named parameter\n",
    "      - default parameters\n",
    "      - variable args\n",
    "      - keyvalue variable args \n",
    "      - lamda\n",
    "      - map nad filter "
   ]
  },
  {
   "cell_type": "markdown",
   "metadata": {},
   "source": []
  },
  {
   "cell_type": "markdown",
   "metadata": {},
   "source": [
    "# Module based function\n"
   ]
  },
  {
   "cell_type": "code",
   "execution_count": 20,
   "metadata": {},
   "outputs": [],
   "source": [
    "import math   #import math library"
   ]
  },
  {
   "cell_type": "code",
   "execution_count": 21,
   "metadata": {},
   "outputs": [
    {
     "data": {
      "text/plain": [
       "3.141592653589793"
      ]
     },
     "execution_count": 21,
     "metadata": {},
     "output_type": "execute_result"
    }
   ],
   "source": [
    "math.pi"
   ]
  },
  {
   "cell_type": "code",
   "execution_count": 22,
   "metadata": {},
   "outputs": [
    {
     "data": {
      "text/plain": [
       "120"
      ]
     },
     "execution_count": 22,
     "metadata": {},
     "output_type": "execute_result"
    }
   ],
   "source": [
    "math.factorial(5)"
   ]
  },
  {
   "cell_type": "code",
   "execution_count": 23,
   "metadata": {},
   "outputs": [
    {
     "data": {
      "text/plain": [
       "93326215443944152681699238856266700490715968264381621468592963895217599993229915608941463976156518286253697920827223758251185210916864000000000000000000000000"
      ]
     },
     "execution_count": 23,
     "metadata": {},
     "output_type": "execute_result"
    }
   ],
   "source": [
    "math.factorial(100)"
   ]
  },
  {
   "cell_type": "code",
   "execution_count": 24,
   "metadata": {},
   "outputs": [
    {
     "data": {
      "text/plain": [
       "0.8939966636005579"
      ]
     },
     "execution_count": 24,
     "metadata": {},
     "output_type": "execute_result"
    }
   ],
   "source": [
    "math.sin(90)"
   ]
  },
  {
   "cell_type": "code",
   "execution_count": 25,
   "metadata": {},
   "outputs": [
    {
     "data": {
      "text/plain": [
       "3"
      ]
     },
     "execution_count": 25,
     "metadata": {},
     "output_type": "execute_result"
    }
   ],
   "source": [
    "math.floor(3.12930012309123)   #lower value"
   ]
  },
  {
   "cell_type": "code",
   "execution_count": 26,
   "metadata": {},
   "outputs": [
    {
     "data": {
      "text/plain": [
       "4"
      ]
     },
     "execution_count": 26,
     "metadata": {},
     "output_type": "execute_result"
    }
   ],
   "source": [
    "math.ceil(3.129)  #upper value"
   ]
  },
  {
   "cell_type": "code",
   "execution_count": 27,
   "metadata": {},
   "outputs": [
    {
     "data": {
      "text/plain": [
       "3.129"
      ]
     },
     "execution_count": 27,
     "metadata": {},
     "output_type": "execute_result"
    }
   ],
   "source": [
    "math.fabs(-3.129)"
   ]
  },
  {
   "cell_type": "code",
   "execution_count": 28,
   "metadata": {},
   "outputs": [],
   "source": [
    "from random import choice, randint"
   ]
  },
  {
   "cell_type": "code",
   "execution_count": 29,
   "metadata": {},
   "outputs": [
    {
     "name": "stdout",
     "output_type": "stream",
     "text": [
      "\u001b[1;31mSignature:\u001b[0m \u001b[0mchoice\u001b[0m\u001b[1;33m(\u001b[0m\u001b[0mseq\u001b[0m\u001b[1;33m)\u001b[0m\u001b[1;33m\u001b[0m\u001b[1;33m\u001b[0m\u001b[0m\n",
      "\u001b[1;31mDocstring:\u001b[0m Choose a random element from a non-empty sequence.\n",
      "\u001b[1;31mFile:\u001b[0m      c:\\users\\compaq\\miniconda3\\lib\\random.py\n",
      "\u001b[1;31mType:\u001b[0m      method"
     ]
    }
   ],
   "source": [
    "choice?"
   ]
  },
  {
   "cell_type": "code",
   "execution_count": 30,
   "metadata": {},
   "outputs": [
    {
     "name": "stdout",
     "output_type": "stream",
     "text": [
      "\u001b[1;31mSignature:\u001b[0m \u001b[0mrandint\u001b[0m\u001b[1;33m(\u001b[0m\u001b[0ma\u001b[0m\u001b[1;33m,\u001b[0m \u001b[0mb\u001b[0m\u001b[1;33m)\u001b[0m\u001b[1;33m\u001b[0m\u001b[1;33m\u001b[0m\u001b[0m\n",
      "\u001b[1;31mDocstring:\u001b[0m\n",
      "Return random integer in range [a, b], including both end points.\n",
      "        \n",
      "\u001b[1;31mFile:\u001b[0m      c:\\users\\compaq\\miniconda3\\lib\\random.py\n",
      "\u001b[1;31mType:\u001b[0m      method"
     ]
    }
   ],
   "source": [
    "randint?"
   ]
  },
  {
   "cell_type": "code",
   "execution_count": 31,
   "metadata": {},
   "outputs": [
    {
     "name": "stdout",
     "output_type": "stream",
     "text": [
      "['😻', '🙉', '🤡', '🐓', '🦓']\n",
      "Your emoji is: \n",
      "🙉\n"
     ]
    }
   ],
   "source": [
    "data = ['😻','🙉','🤡','🐓','🦓']\n",
    "print(data)\n",
    "print(\"Your emoji is: \")\n",
    "print(choice(data))"
   ]
  },
  {
   "cell_type": "code",
   "execution_count": 32,
   "metadata": {},
   "outputs": [
    {
     "name": "stdout",
     "output_type": "stream",
     "text": [
      "🐓\n"
     ]
    }
   ],
   "source": [
    "print(choice(data))"
   ]
  },
  {
   "cell_type": "code",
   "execution_count": 33,
   "metadata": {},
   "outputs": [
    {
     "name": "stdout",
     "output_type": "stream",
     "text": [
      "6\n"
     ]
    }
   ],
   "source": [
    "print(randint(1,6))"
   ]
  },
  {
   "cell_type": "code",
   "execution_count": 34,
   "metadata": {},
   "outputs": [
    {
     "name": "stdout",
     "output_type": "stream",
     "text": [
      "\u001b[1;31mSignature:\u001b[0m \u001b[0msample\u001b[0m\u001b[1;33m(\u001b[0m\u001b[0mpopulation\u001b[0m\u001b[1;33m,\u001b[0m \u001b[0mk\u001b[0m\u001b[1;33m,\u001b[0m \u001b[1;33m*\u001b[0m\u001b[1;33m,\u001b[0m \u001b[0mcounts\u001b[0m\u001b[1;33m=\u001b[0m\u001b[1;32mNone\u001b[0m\u001b[1;33m)\u001b[0m\u001b[1;33m\u001b[0m\u001b[1;33m\u001b[0m\u001b[0m\n",
      "\u001b[1;31mDocstring:\u001b[0m\n",
      "Chooses k unique random elements from a population sequence.\n",
      "\n",
      "Returns a new list containing elements from the population while\n",
      "leaving the original population unchanged.  The resulting list is\n",
      "in selection order so that all sub-slices will also be valid random\n",
      "samples.  This allows raffle winners (the sample) to be partitioned\n",
      "into grand prize and second place winners (the subslices).\n",
      "\n",
      "Members of the population need not be hashable or unique.  If the\n",
      "population contains repeats, then each occurrence is a possible\n",
      "selection in the sample.\n",
      "\n",
      "Repeated elements can be specified one at a time or with the optional\n",
      "counts parameter.  For example:\n",
      "\n",
      "    sample(['red', 'blue'], counts=[4, 2], k=5)\n",
      "\n",
      "is equivalent to:\n",
      "\n",
      "    sample(['red', 'red', 'red', 'red', 'blue', 'blue'], k=5)\n",
      "\n",
      "To choose a sample from a range of integers, use range() for the\n",
      "population argument.  This is especially fast and space efficient\n",
      "for sampling from a large population:\n",
      "\n",
      "    sample(range(10000000), 60)\n",
      "\u001b[1;31mFile:\u001b[0m      c:\\users\\compaq\\miniconda3\\lib\\random.py\n",
      "\u001b[1;31mType:\u001b[0m      method"
     ]
    }
   ],
   "source": [
    "from random import sample\n",
    "sample?"
   ]
  },
  {
   "cell_type": "code",
   "execution_count": 35,
   "metadata": {},
   "outputs": [
    {
     "name": "stdout",
     "output_type": "stream",
     "text": [
      "🦓 🙉 🤡 🐓 😻\n",
      "😻 🦓 🙉 🤡 🐓 🐓 🤡 🤡 🤡 🐓\n",
      "['🦓', '🙉', '🤡', '🐓', '😻']\n"
     ]
    }
   ],
   "source": [
    "from random import sample , choices\n",
    "out = sample(data, 5)\n",
    "print(*out) # * here is a trick to unpack the list\n",
    "out2 = choices(data, k=10)\n",
    "print(*out2)\n",
    "print(out)"
   ]
  },
  {
   "cell_type": "code",
   "execution_count": 36,
   "metadata": {},
   "outputs": [],
   "source": [
    "from datetime import datetime"
   ]
  },
  {
   "cell_type": "code",
   "execution_count": 37,
   "metadata": {},
   "outputs": [
    {
     "name": "stdout",
     "output_type": "stream",
     "text": [
      "2024-07-27 10:58:40.706765\n"
     ]
    }
   ],
   "source": [
    "print(datetime.now())"
   ]
  },
  {
   "cell_type": "code",
   "execution_count": 38,
   "metadata": {},
   "outputs": [
    {
     "name": "stdout",
     "output_type": "stream",
     "text": [
      "2024-07-27\n",
      "2024-07-27\n",
      "2024-07-27 10:58:40.734787\n",
      "27/07/2024\n"
     ]
    }
   ],
   "source": [
    "#date\n",
    "date = datetime.date(datetime.now())\n",
    "print(date)\n",
    "time = datetime.time(datetime.now())\n",
    "print(date)\n",
    "now = datetime.now()\n",
    "print(now)\n",
    "formatted = now.strftime(\"%d/%m/%Y\")\n",
    "print(formatted)"
   ]
  },
  {
   "cell_type": "code",
   "execution_count": 39,
   "metadata": {},
   "outputs": [],
   "source": [
    "import os  #check file and folder"
   ]
  },
  {
   "cell_type": "code",
   "execution_count": 40,
   "metadata": {},
   "outputs": [
    {
     "name": "stdout",
     "output_type": "stream",
     "text": [
      "current location\n",
      "c:\\Users\\Compaq\\Desktop\\SANDEEP YADAV\\python data analytics\n"
     ]
    }
   ],
   "source": [
    "print(\"current location\")\n",
    "print(os.getcwd())"
   ]
  },
  {
   "cell_type": "code",
   "execution_count": 43,
   "metadata": {},
   "outputs": [
    {
     "name": "stdout",
     "output_type": "stream",
     "text": [
      "list all files \n",
      " : .git\n",
      " : conditions.ipynb\n",
      " : dictionary.ipynb\n",
      " : Function.ipynb\n",
      " : io.ipynb\n",
      " : list.ipynb\n",
      " : loops.ipynb\n",
      " : pattern1.py\n",
      " : pattern2.py\n",
      " : pattern3.py\n",
      " : pattern4.py\n",
      " : sets.ipynb\n",
      " : string.ipynb\n"
     ]
    }
   ],
   "source": [
    "print('list all files ')\n",
    "content = os.listdir()\n",
    "for item in content:\n",
    "    print(f\" : {item}\")"
   ]
  },
  {
   "cell_type": "code",
   "execution_count": 45,
   "metadata": {},
   "outputs": [
    {
     "name": "stdout",
     "output_type": "stream",
     "text": [
      " : Common Files\n",
      " : Crashpad\n",
      " : desktop.ini\n",
      " : Git\n",
      " : Google\n",
      " : Internet Explorer\n",
      " : Microsoft Office\n",
      " : Microsoft Update Health Tools\n",
      " : ModifiableWindowsApps\n",
      " : MsEdgeCrashpad\n",
      " : PCHealthCheck\n",
      " : Rockstar Games\n",
      " : RUXIM\n",
      " : Synaptics\n",
      " : Uninstall Information\n",
      " : Windows Defender\n",
      " : Windows Defender Advanced Threat Protection\n",
      " : Windows Mail\n",
      " : Windows Media Player\n",
      " : Windows Multimedia Platform\n",
      " : Windows NT\n",
      " : Windows Photo Viewer\n",
      " : Windows Portable Devices\n",
      " : Windows Security\n",
      " : Windows Sidebar\n",
      " : WindowsApps\n",
      " : WindowsPowerShell\n",
      " : WinRAR\n"
     ]
    }
   ],
   "source": [
    "content = os.listdir(\"C:/Program Files\")\n",
    "for item in content:\n",
    "    print(f\" : {item}\")"
   ]
  },
  {
   "cell_type": "code",
   "execution_count": 47,
   "metadata": {},
   "outputs": [
    {
     "name": "stdout",
     "output_type": "stream",
     "text": [
      "📂Common Files\n",
      "📂Crashpad\n",
      "📂desktop.ini\n",
      "📂Git\n",
      "📂Google\n",
      "📂Internet Explorer\n",
      "📂Microsoft Office\n",
      "📂Microsoft Update Health Tools\n",
      "📂ModifiableWindowsApps\n",
      "📂MsEdgeCrashpad\n",
      "📂PCHealthCheck\n",
      "📂Rockstar Games\n",
      "📂RUXIM\n",
      "📂Synaptics\n",
      "📂Uninstall Information\n",
      "📂Windows Defender\n",
      "📂Windows Defender Advanced Threat Protection\n",
      "📂Windows Mail\n",
      "📂Windows Media Player\n",
      "📂Windows Multimedia Platform\n",
      "📂Windows NT\n",
      "📂Windows Photo Viewer\n",
      "📂Windows Portable Devices\n",
      "📂Windows Security\n",
      "📂Windows Sidebar\n",
      "📂WindowsApps\n",
      "📂WindowsPowerShell\n",
      "📂WinRAR\n"
     ]
    }
   ],
   "source": [
    "content = os.listdir(\"C:/Program Files\")\n",
    "for item in content:\n",
    "    path = f\"C:/Program Files/{item}\"\n",
    "    is_file = os.path.isfile(path)\n",
    "    if is_file:\n",
    "        print(f\"📂{item}\")\n",
    "    else:\n",
    "        print(f\"📂{item}\")\n"
   ]
  },
  {
   "cell_type": "code",
   "execution_count": 48,
   "metadata": {},
   "outputs": [],
   "source": [
    "os.makedirs(\"a/b/c\", exist_ok= True)"
   ]
  },
  {
   "cell_type": "code",
   "execution_count": 49,
   "metadata": {},
   "outputs": [],
   "source": [
    "os.makedirs(\"C:/important/work\", exist_ok=True)  # to make folder in c drive"
   ]
  },
  {
   "cell_type": "markdown",
   "metadata": {},
   "source": [
    "# User-Defeined Function\n",
    "stage 1 : Creating a function(create)\n",
    "   '''python\n",
    "   def fun_name([params...]):\n",
    "   statements\n",
    "   '''\n",
    "   [return value]\n",
    "\n",
    "stage 2 : call the function(use)\n",
    "\n",
    "   fun_name([args...])"
   ]
  },
  {
   "cell_type": "markdown",
   "metadata": {},
   "source": []
  },
  {
   "cell_type": "code",
   "execution_count": 59,
   "metadata": {},
   "outputs": [],
   "source": [
    "def adder():\n",
    "    a = int(input(\"enter the number:  \"))\n",
    "    b = int(input(\"enter the number:  \"))\n",
    "    total = a + b \n",
    "    return total"
   ]
  },
  {
   "cell_type": "code",
   "execution_count": 60,
   "metadata": {},
   "outputs": [
    {
     "name": "stdout",
     "output_type": "stream",
     "text": [
      "350\n",
      "608\n",
      "4890\n"
     ]
    }
   ],
   "source": [
    "adder()\n",
    "adder()\n",
    "adder()"
   ]
  },
  {
   "cell_type": "code",
   "execution_count": 61,
   "metadata": {},
   "outputs": [],
   "source": [
    "def adder(a,b):\n",
    "    total = a + b\n",
    "    return total"
   ]
  },
  {
   "cell_type": "code",
   "execution_count": 64,
   "metadata": {},
   "outputs": [
    {
     "name": "stdout",
     "output_type": "stream",
     "text": [
      "22\n",
      "65\n"
     ]
    }
   ],
   "source": [
    "adder(10,12)\n",
    "adder(25,40)"
   ]
  },
  {
   "cell_type": "code",
   "execution_count": 65,
   "metadata": {},
   "outputs": [
    {
     "name": "stdout",
     "output_type": "stream",
     "text": [
      "35\n"
     ]
    }
   ],
   "source": [
    "x = 12\n",
    "y = 23\n",
    "adder(x,y)"
   ]
  },
  {
   "cell_type": "code",
   "execution_count": 67,
   "metadata": {},
   "outputs": [
    {
     "name": "stdout",
     "output_type": "stream",
     "text": [
      "3698\n"
     ]
    }
   ],
   "source": [
    "x = 1299\n",
    "y = 2399  \n",
    "adder(x,y)"
   ]
  },
  {
   "cell_type": "code",
   "execution_count": 80,
   "metadata": {},
   "outputs": [],
   "source": [
    "def simple_interest(p ,r,t):\n",
    "    si = p * r * t / 100\n",
    "    a = si + p\n",
    "    print(si)\n",
    "    return si, a"
   ]
  },
  {
   "cell_type": "code",
   "execution_count": 81,
   "metadata": {},
   "outputs": [
    {
     "name": "stdout",
     "output_type": "stream",
     "text": [
      "3000.0\n",
      "23000.0\n"
     ]
    },
    {
     "ename": "NameError",
     "evalue": "name 'a' is not defined",
     "output_type": "error",
     "traceback": [
      "\u001b[1;31m---------------------------------------------------------------------------\u001b[0m",
      "\u001b[1;31mNameError\u001b[0m                                 Traceback (most recent call last)",
      "Cell \u001b[1;32mIn[81], line 5\u001b[0m\n\u001b[0;32m      3\u001b[0m t \u001b[38;5;241m=\u001b[39m \u001b[38;5;241m10\u001b[39m\n\u001b[0;32m      4\u001b[0m simple_interest(p, r, t)\n\u001b[1;32m----> 5\u001b[0m \u001b[38;5;28mprint\u001b[39m(a)\n",
      "\u001b[1;31mNameError\u001b[0m: name 'a' is not defined"
     ]
    }
   ],
   "source": [
    "p = 20000\n",
    "r = 1.5\n",
    "t = 10\n",
    "simple_interest(p, r, t)\n",
    "print()"
   ]
  },
  {
   "cell_type": "code",
   "execution_count": 85,
   "metadata": {},
   "outputs": [
    {
     "data": {
      "text/plain": [
       "2461.76"
      ]
     },
     "execution_count": 85,
     "metadata": {},
     "output_type": "execute_result"
    }
   ],
   "source": [
    "def area_of_sphere(r):\n",
    "    area = 4 * 3.14 * r * r\n",
    "    return area\n",
    "\n",
    "r = 10\n",
    "area_of_sphere(r)\n",
    "r = 14\n",
    "area_of_sphere(r)\n"
   ]
  },
  {
   "cell_type": "code",
   "execution_count": 84,
   "metadata": {},
   "outputs": [
    {
     "name": "stdout",
     "output_type": "stream",
     "text": [
      "500.0\n"
     ]
    }
   ],
   "source": [
    "adder(10, 12)"
   ]
  },
  {
   "cell_type": "code",
   "execution_count": 88,
   "metadata": {},
   "outputs": [
    {
     "name": "stdout",
     "output_type": "stream",
     "text": [
      "500.0\n",
      "None\n"
     ]
    }
   ],
   "source": [
    "ans = adder(15,6)\n",
    "print(ans)\n"
   ]
  },
  {
   "cell_type": "code",
   "execution_count": 89,
   "metadata": {},
   "outputs": [
    {
     "name": "stdout",
     "output_type": "stream",
     "text": [
      "4\n",
      "total words: 9\n"
     ]
    }
   ],
   "source": [
    "#waf to count the number of words in sentence\n",
    "def word_count(sentence):\n",
    "    words = sentence.split()\n",
    "    return len(words)\n",
    "\n",
    "sentence = \"I am a student\"\n",
    "print(word_count(sentence))\n",
    "\n",
    "sentence = \"this is a long sentence with many words, okay?\"\n",
    "size = word_count(sentence)\n",
    "print(f'total words: {size}')\n"
   ]
  },
  {
   "cell_type": "code",
   "execution_count": null,
   "metadata": {},
   "outputs": [],
   "source": []
  }
 ],
 "metadata": {
  "kernelspec": {
   "display_name": "base",
   "language": "python",
   "name": "python3"
  },
  "language_info": {
   "codemirror_mode": {
    "name": "ipython",
    "version": 3
   },
   "file_extension": ".py",
   "mimetype": "text/x-python",
   "name": "python",
   "nbconvert_exporter": "python",
   "pygments_lexer": "ipython3",
   "version": "3.12.4"
  }
 },
 "nbformat": 4,
 "nbformat_minor": 2
}
