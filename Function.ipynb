{
 "cells": [
  {
   "cell_type": "markdown",
   "metadata": {},
   "source": [
    "# Function\n",
    "Function are of two types -\n",
    "- Pre-Defined Function\n",
    "- User Defined FUnction\n",
    "- Pre-Defined function are of two types-\n",
    "  - Built function\n",
    "    print(), input(), len(),type(), int(),sum()\n",
    "    \n",
    "   - modules based function\n",
    "     - local modules\n",
    "       - math\n",
    "       - datetime\n",
    "       - os\n",
    "       - turtle\n",
    "       - random\n",
    "    - 3rd party modules\n",
    "       - numpy\n",
    "       - pandas\n",
    "       - matplotlib\n",
    "       - dputils\n",
    "- user defined function\n",
    "    - function with return value\n",
    "    - non - parameterized functions\n",
    "    - parameterized functions\n",
    "      - required parameters/named parameter\n",
    "      - default parameters\n",
    "      - variable args\n",
    "      - keyvalue variable args \n",
    "      - lamda\n",
    "      - map nad filter "
   ]
  },
  {
   "cell_type": "markdown",
   "metadata": {},
   "source": []
  },
  {
   "cell_type": "markdown",
   "metadata": {},
   "source": [
    "# Module based function\n"
   ]
  },
  {
   "cell_type": "code",
   "execution_count": 1,
   "metadata": {},
   "outputs": [],
   "source": [
    "import math   #import math library"
   ]
  },
  {
   "cell_type": "code",
   "execution_count": 2,
   "metadata": {},
   "outputs": [
    {
     "data": {
      "text/plain": [
       "3.141592653589793"
      ]
     },
     "execution_count": 2,
     "metadata": {},
     "output_type": "execute_result"
    }
   ],
   "source": [
    "math.pi"
   ]
  },
  {
   "cell_type": "code",
   "execution_count": 3,
   "metadata": {},
   "outputs": [
    {
     "data": {
      "text/plain": [
       "120"
      ]
     },
     "execution_count": 3,
     "metadata": {},
     "output_type": "execute_result"
    }
   ],
   "source": [
    "math.factorial(5)"
   ]
  },
  {
   "cell_type": "code",
   "execution_count": 4,
   "metadata": {},
   "outputs": [
    {
     "data": {
      "text/plain": [
       "93326215443944152681699238856266700490715968264381621468592963895217599993229915608941463976156518286253697920827223758251185210916864000000000000000000000000"
      ]
     },
     "execution_count": 4,
     "metadata": {},
     "output_type": "execute_result"
    }
   ],
   "source": [
    "math.factorial(100)"
   ]
  },
  {
   "cell_type": "code",
   "execution_count": 5,
   "metadata": {},
   "outputs": [
    {
     "data": {
      "text/plain": [
       "0.8939966636005579"
      ]
     },
     "execution_count": 5,
     "metadata": {},
     "output_type": "execute_result"
    }
   ],
   "source": [
    "math.sin(90)"
   ]
  },
  {
   "cell_type": "code",
   "execution_count": 6,
   "metadata": {},
   "outputs": [
    {
     "data": {
      "text/plain": [
       "3"
      ]
     },
     "execution_count": 6,
     "metadata": {},
     "output_type": "execute_result"
    }
   ],
   "source": [
    "math.floor(3.12930012309123)   #lower value"
   ]
  },
  {
   "cell_type": "code",
   "execution_count": 7,
   "metadata": {},
   "outputs": [
    {
     "data": {
      "text/plain": [
       "4"
      ]
     },
     "execution_count": 7,
     "metadata": {},
     "output_type": "execute_result"
    }
   ],
   "source": [
    "math.ceil(3.129)  #upper value"
   ]
  },
  {
   "cell_type": "code",
   "execution_count": 8,
   "metadata": {},
   "outputs": [
    {
     "data": {
      "text/plain": [
       "3.129"
      ]
     },
     "execution_count": 8,
     "metadata": {},
     "output_type": "execute_result"
    }
   ],
   "source": [
    "math.fabs(-3.129)"
   ]
  },
  {
   "cell_type": "code",
   "execution_count": 9,
   "metadata": {},
   "outputs": [],
   "source": [
    "from random import choice, randint"
   ]
  },
  {
   "cell_type": "code",
   "execution_count": 10,
   "metadata": {},
   "outputs": [
    {
     "name": "stdout",
     "output_type": "stream",
     "text": [
      "\u001b[1;31mSignature:\u001b[0m \u001b[0mchoice\u001b[0m\u001b[1;33m(\u001b[0m\u001b[0mseq\u001b[0m\u001b[1;33m)\u001b[0m\u001b[1;33m\u001b[0m\u001b[1;33m\u001b[0m\u001b[0m\n",
      "\u001b[1;31mDocstring:\u001b[0m Choose a random element from a non-empty sequence.\n",
      "\u001b[1;31mFile:\u001b[0m      c:\\users\\compaq\\miniconda3\\lib\\random.py\n",
      "\u001b[1;31mType:\u001b[0m      method"
     ]
    }
   ],
   "source": [
    "choice?"
   ]
  },
  {
   "cell_type": "code",
   "execution_count": 11,
   "metadata": {},
   "outputs": [
    {
     "name": "stdout",
     "output_type": "stream",
     "text": [
      "\u001b[1;31mSignature:\u001b[0m \u001b[0mrandint\u001b[0m\u001b[1;33m(\u001b[0m\u001b[0ma\u001b[0m\u001b[1;33m,\u001b[0m \u001b[0mb\u001b[0m\u001b[1;33m)\u001b[0m\u001b[1;33m\u001b[0m\u001b[1;33m\u001b[0m\u001b[0m\n",
      "\u001b[1;31mDocstring:\u001b[0m\n",
      "Return random integer in range [a, b], including both end points.\n",
      "        \n",
      "\u001b[1;31mFile:\u001b[0m      c:\\users\\compaq\\miniconda3\\lib\\random.py\n",
      "\u001b[1;31mType:\u001b[0m      method"
     ]
    }
   ],
   "source": [
    "randint?"
   ]
  },
  {
   "cell_type": "code",
   "execution_count": 12,
   "metadata": {},
   "outputs": [
    {
     "name": "stdout",
     "output_type": "stream",
     "text": [
      "['😻', '🙉', '🤡', '🐓', '🦓']\n",
      "Your emoji is: \n",
      "🐓\n"
     ]
    }
   ],
   "source": [
    "data = ['😻','🙉','🤡','🐓','🦓']\n",
    "print(data)\n",
    "print(\"Your emoji is: \")\n",
    "print(choice(data))"
   ]
  },
  {
   "cell_type": "code",
   "execution_count": 13,
   "metadata": {},
   "outputs": [
    {
     "name": "stdout",
     "output_type": "stream",
     "text": [
      "😻\n"
     ]
    }
   ],
   "source": [
    "print(choice(data))"
   ]
  },
  {
   "cell_type": "code",
   "execution_count": 14,
   "metadata": {},
   "outputs": [
    {
     "name": "stdout",
     "output_type": "stream",
     "text": [
      "1\n"
     ]
    }
   ],
   "source": [
    "print(randint(1,6))"
   ]
  },
  {
   "cell_type": "code",
   "execution_count": 15,
   "metadata": {},
   "outputs": [
    {
     "name": "stdout",
     "output_type": "stream",
     "text": [
      "\u001b[1;31mSignature:\u001b[0m \u001b[0msample\u001b[0m\u001b[1;33m(\u001b[0m\u001b[0mpopulation\u001b[0m\u001b[1;33m,\u001b[0m \u001b[0mk\u001b[0m\u001b[1;33m,\u001b[0m \u001b[1;33m*\u001b[0m\u001b[1;33m,\u001b[0m \u001b[0mcounts\u001b[0m\u001b[1;33m=\u001b[0m\u001b[1;32mNone\u001b[0m\u001b[1;33m)\u001b[0m\u001b[1;33m\u001b[0m\u001b[1;33m\u001b[0m\u001b[0m\n",
      "\u001b[1;31mDocstring:\u001b[0m\n",
      "Chooses k unique random elements from a population sequence.\n",
      "\n",
      "Returns a new list containing elements from the population while\n",
      "leaving the original population unchanged.  The resulting list is\n",
      "in selection order so that all sub-slices will also be valid random\n",
      "samples.  This allows raffle winners (the sample) to be partitioned\n",
      "into grand prize and second place winners (the subslices).\n",
      "\n",
      "Members of the population need not be hashable or unique.  If the\n",
      "population contains repeats, then each occurrence is a possible\n",
      "selection in the sample.\n",
      "\n",
      "Repeated elements can be specified one at a time or with the optional\n",
      "counts parameter.  For example:\n",
      "\n",
      "    sample(['red', 'blue'], counts=[4, 2], k=5)\n",
      "\n",
      "is equivalent to:\n",
      "\n",
      "    sample(['red', 'red', 'red', 'red', 'blue', 'blue'], k=5)\n",
      "\n",
      "To choose a sample from a range of integers, use range() for the\n",
      "population argument.  This is especially fast and space efficient\n",
      "for sampling from a large population:\n",
      "\n",
      "    sample(range(10000000), 60)\n",
      "\u001b[1;31mFile:\u001b[0m      c:\\users\\compaq\\miniconda3\\lib\\random.py\n",
      "\u001b[1;31mType:\u001b[0m      method"
     ]
    }
   ],
   "source": [
    "from random import sample\n",
    "sample?"
   ]
  },
  {
   "cell_type": "code",
   "execution_count": 16,
   "metadata": {},
   "outputs": [
    {
     "name": "stdout",
     "output_type": "stream",
     "text": [
      "🤡 😻 🙉 🦓 🐓\n",
      "🙉 😻 🤡 🙉 🐓 🦓 🙉 🙉 🤡 😻\n",
      "['🤡', '😻', '🙉', '🦓', '🐓']\n"
     ]
    }
   ],
   "source": [
    "from random import sample , choices\n",
    "out = sample(data, 5)\n",
    "print(*out) # * here is a trick to unpack the list\n",
    "out2 = choices(data, k=10)\n",
    "print(*out2)\n",
    "print(out)"
   ]
  },
  {
   "cell_type": "code",
   "execution_count": 17,
   "metadata": {},
   "outputs": [],
   "source": [
    "from datetime import datetime"
   ]
  },
  {
   "cell_type": "code",
   "execution_count": 18,
   "metadata": {},
   "outputs": [
    {
     "name": "stdout",
     "output_type": "stream",
     "text": [
      "2024-08-01 06:36:17.660594\n"
     ]
    }
   ],
   "source": [
    "print(datetime.now())"
   ]
  },
  {
   "cell_type": "code",
   "execution_count": 19,
   "metadata": {},
   "outputs": [
    {
     "name": "stdout",
     "output_type": "stream",
     "text": [
      "2024-08-01\n",
      "2024-08-01\n",
      "2024-08-01 06:36:17.709493\n",
      "01/08/2024\n"
     ]
    }
   ],
   "source": [
    "#date\n",
    "date = datetime.date(datetime.now())\n",
    "print(date)\n",
    "time = datetime.time(datetime.now())\n",
    "print(date)\n",
    "now = datetime.now()\n",
    "print(now)\n",
    "formatted = now.strftime(\"%d/%m/%Y\")\n",
    "print(formatted)"
   ]
  },
  {
   "cell_type": "code",
   "execution_count": 20,
   "metadata": {},
   "outputs": [],
   "source": [
    "import os  #check file and folder"
   ]
  },
  {
   "cell_type": "code",
   "execution_count": 21,
   "metadata": {},
   "outputs": [
    {
     "name": "stdout",
     "output_type": "stream",
     "text": [
      "current location\n",
      "c:\\Users\\Compaq\\Desktop\\SANDEEP YADAV\\python data analytics\n"
     ]
    }
   ],
   "source": [
    "print(\"current location\")\n",
    "print(os.getcwd())"
   ]
  },
  {
   "cell_type": "code",
   "execution_count": 22,
   "metadata": {},
   "outputs": [
    {
     "name": "stdout",
     "output_type": "stream",
     "text": [
      "list all files \n",
      " : .git\n",
      " : conditions.ipynb\n",
      " : dictionary.ipynb\n",
      " : Function.ipynb\n",
      " : function_practice.ipynb\n",
      " : io.ipynb\n",
      " : list.ipynb\n",
      " : list_practise.ipynb\n",
      " : loops.ipynb\n",
      " : loops_practise.ipynb\n",
      " : matplotlib.ipynb\n",
      " : numpy.ipynb\n",
      " : pattern1.py\n",
      " : pattern2.py\n",
      " : pattern3.py\n",
      " : pattern4.py\n",
      " : sets.ipynb\n",
      " : string.ipynb\n",
      " : string_practise.ipynb\n"
     ]
    }
   ],
   "source": [
    "print('list all files ')\n",
    "content = os.listdir()\n",
    "for item in content:\n",
    "    print(f\" : {item}\")"
   ]
  },
  {
   "cell_type": "code",
   "execution_count": 23,
   "metadata": {},
   "outputs": [
    {
     "name": "stdout",
     "output_type": "stream",
     "text": [
      " : Common Files\n",
      " : Crashpad\n",
      " : desktop.ini\n",
      " : Git\n",
      " : Google\n",
      " : Internet Explorer\n",
      " : Microsoft\n",
      " : Microsoft Office\n",
      " : Microsoft Office 15\n",
      " : Microsoft OneDrive\n",
      " : Microsoft Update Health Tools\n",
      " : ModifiableWindowsApps\n",
      " : MsEdgeCrashpad\n",
      " : PCHealthCheck\n",
      " : Rockstar Games\n",
      " : RUXIM\n",
      " : Synaptics\n",
      " : Uninstall Information\n",
      " : Windows Defender\n",
      " : Windows Defender Advanced Threat Protection\n",
      " : Windows Mail\n",
      " : Windows Media Player\n",
      " : Windows Multimedia Platform\n",
      " : Windows NT\n",
      " : Windows Photo Viewer\n",
      " : Windows Portable Devices\n",
      " : Windows Security\n",
      " : Windows Sidebar\n",
      " : WindowsApps\n",
      " : WindowsPowerShell\n",
      " : WinRAR\n"
     ]
    }
   ],
   "source": [
    "content = os.listdir(\"C:/Program Files\")\n",
    "for item in content:\n",
    "    print(f\" : {item}\")"
   ]
  },
  {
   "cell_type": "code",
   "execution_count": 24,
   "metadata": {},
   "outputs": [
    {
     "name": "stdout",
     "output_type": "stream",
     "text": [
      "📂Common Files\n",
      "📂Crashpad\n",
      "📂desktop.ini\n",
      "📂Git\n",
      "📂Google\n",
      "📂Internet Explorer\n",
      "📂Microsoft\n",
      "📂Microsoft Office\n",
      "📂Microsoft Office 15\n",
      "📂Microsoft OneDrive\n",
      "📂Microsoft Update Health Tools\n",
      "📂ModifiableWindowsApps\n",
      "📂MsEdgeCrashpad\n",
      "📂PCHealthCheck\n",
      "📂Rockstar Games\n",
      "📂RUXIM\n",
      "📂Synaptics\n",
      "📂Uninstall Information\n",
      "📂Windows Defender\n",
      "📂Windows Defender Advanced Threat Protection\n",
      "📂Windows Mail\n",
      "📂Windows Media Player\n",
      "📂Windows Multimedia Platform\n",
      "📂Windows NT\n",
      "📂Windows Photo Viewer\n",
      "📂Windows Portable Devices\n",
      "📂Windows Security\n",
      "📂Windows Sidebar\n",
      "📂WindowsApps\n",
      "📂WindowsPowerShell\n",
      "📂WinRAR\n"
     ]
    }
   ],
   "source": [
    "content = os.listdir(\"C:/Program Files\")\n",
    "for item in content:\n",
    "    path = f\"C:/Program Files/{item}\"\n",
    "    is_file = os.path.isfile(path)\n",
    "    if is_file:\n",
    "        print(f\"📂{item}\")\n",
    "    else:\n",
    "        print(f\"📂{item}\")\n"
   ]
  },
  {
   "cell_type": "code",
   "execution_count": 25,
   "metadata": {},
   "outputs": [],
   "source": [
    "os.makedirs(\"a/b/c\", exist_ok= True)"
   ]
  },
  {
   "cell_type": "code",
   "execution_count": 26,
   "metadata": {},
   "outputs": [],
   "source": [
    "os.makedirs(\"C:/important/work\", exist_ok=True)  # to make folder in c drive"
   ]
  },
  {
   "cell_type": "markdown",
   "metadata": {},
   "source": [
    "# User-Defeined Function\n",
    "stage 1 : Creating a function(create)\n",
    "   '''python\n",
    "   def fun_name([params...]):\n",
    "   statements\n",
    "   '''\n",
    "   [return value]\n",
    "\n",
    "stage 2 : call the function(use)\n",
    "\n",
    "   fun_name([args...])"
   ]
  },
  {
   "cell_type": "markdown",
   "metadata": {},
   "source": []
  },
  {
   "cell_type": "code",
   "execution_count": 27,
   "metadata": {},
   "outputs": [],
   "source": [
    "def adder():\n",
    "    a = int(input(\"enter the number:  \"))\n",
    "    b = int(input(\"enter the number:  \"))\n",
    "    total = a + b \n",
    "    return total"
   ]
  },
  {
   "cell_type": "code",
   "execution_count": 28,
   "metadata": {},
   "outputs": [
    {
     "ename": "ValueError",
     "evalue": "invalid literal for int() with base 10: ''",
     "output_type": "error",
     "traceback": [
      "\u001b[1;31m---------------------------------------------------------------------------\u001b[0m",
      "\u001b[1;31mValueError\u001b[0m                                Traceback (most recent call last)",
      "Cell \u001b[1;32mIn[28], line 1\u001b[0m\n\u001b[1;32m----> 1\u001b[0m adder()\n\u001b[0;32m      2\u001b[0m adder()\n\u001b[0;32m      3\u001b[0m adder()\n",
      "Cell \u001b[1;32mIn[27], line 2\u001b[0m, in \u001b[0;36madder\u001b[1;34m()\u001b[0m\n\u001b[0;32m      1\u001b[0m \u001b[38;5;28;01mdef\u001b[39;00m \u001b[38;5;21madder\u001b[39m():\n\u001b[1;32m----> 2\u001b[0m     a \u001b[38;5;241m=\u001b[39m \u001b[38;5;28mint\u001b[39m(\u001b[38;5;28minput\u001b[39m(\u001b[38;5;124m\"\u001b[39m\u001b[38;5;124menter the number:  \u001b[39m\u001b[38;5;124m\"\u001b[39m))\n\u001b[0;32m      3\u001b[0m     b \u001b[38;5;241m=\u001b[39m \u001b[38;5;28mint\u001b[39m(\u001b[38;5;28minput\u001b[39m(\u001b[38;5;124m\"\u001b[39m\u001b[38;5;124menter the number:  \u001b[39m\u001b[38;5;124m\"\u001b[39m))\n\u001b[0;32m      4\u001b[0m     total \u001b[38;5;241m=\u001b[39m a \u001b[38;5;241m+\u001b[39m b \n",
      "\u001b[1;31mValueError\u001b[0m: invalid literal for int() with base 10: ''"
     ]
    }
   ],
   "source": [
    "adder()\n",
    "adder()\n",
    "adder()"
   ]
  },
  {
   "cell_type": "code",
   "execution_count": null,
   "metadata": {},
   "outputs": [],
   "source": [
    "def adder(a,b):\n",
    "    total = a + b\n",
    "    return total"
   ]
  },
  {
   "cell_type": "code",
   "execution_count": null,
   "metadata": {},
   "outputs": [
    {
     "name": "stdout",
     "output_type": "stream",
     "text": [
      "22\n",
      "65\n"
     ]
    }
   ],
   "source": [
    "adder(10,12)\n",
    "adder(25,40)"
   ]
  },
  {
   "cell_type": "code",
   "execution_count": null,
   "metadata": {},
   "outputs": [
    {
     "name": "stdout",
     "output_type": "stream",
     "text": [
      "35\n"
     ]
    }
   ],
   "source": [
    "x = 12\n",
    "y = 23\n",
    "adder(x,y)"
   ]
  },
  {
   "cell_type": "code",
   "execution_count": null,
   "metadata": {},
   "outputs": [
    {
     "name": "stdout",
     "output_type": "stream",
     "text": [
      "3698\n"
     ]
    }
   ],
   "source": [
    "x = 1299\n",
    "y = 2399  \n",
    "adder(x,y)"
   ]
  },
  {
   "cell_type": "code",
   "execution_count": null,
   "metadata": {},
   "outputs": [],
   "source": [
    "def simple_interest(p ,r,t):\n",
    "    si = p * r * t / 100\n",
    "    a = si + p\n",
    "    print(si)\n",
    "    return si, a"
   ]
  },
  {
   "cell_type": "code",
   "execution_count": null,
   "metadata": {},
   "outputs": [
    {
     "name": "stdout",
     "output_type": "stream",
     "text": [
      "3000.0\n",
      "23000.0\n"
     ]
    }
   ],
   "source": [
    "p = 20000\n",
    "r = 1.5\n",
    "t = 10\n",
    "simple_interest(p, r, t)\n"
   ]
  },
  {
   "cell_type": "code",
   "execution_count": 29,
   "metadata": {},
   "outputs": [
    {
     "data": {
      "text/plain": [
       "2461.76"
      ]
     },
     "execution_count": 29,
     "metadata": {},
     "output_type": "execute_result"
    }
   ],
   "source": [
    "def area_of_sphere(r):\n",
    "    area = 4 * 3.14 * r * r\n",
    "    return area\n",
    "\n",
    "r = 10\n",
    "area_of_sphere(r)\n",
    "r = 14\n",
    "area_of_sphere(r)\n"
   ]
  },
  {
   "cell_type": "code",
   "execution_count": null,
   "metadata": {},
   "outputs": [
    {
     "name": "stdout",
     "output_type": "stream",
     "text": [
      "500.0\n"
     ]
    }
   ],
   "source": [
    "adder(10, 12)"
   ]
  },
  {
   "cell_type": "code",
   "execution_count": null,
   "metadata": {},
   "outputs": [
    {
     "name": "stdout",
     "output_type": "stream",
     "text": [
      "500.0\n",
      "None\n"
     ]
    }
   ],
   "source": [
    "ans = adder(15,6)\n",
    "print(ans)\n"
   ]
  },
  {
   "cell_type": "code",
   "execution_count": null,
   "metadata": {},
   "outputs": [
    {
     "name": "stdout",
     "output_type": "stream",
     "text": [
      "4\n",
      "total words: 9\n"
     ]
    }
   ],
   "source": [
    "#waf to count the number of words in sentence\n",
    "def word_count(sentence):\n",
    "    words = sentence.split()\n",
    "    return len(words)\n",
    "\n",
    "sentence = \"I am a student\"\n",
    "print(word_count(sentence))\n",
    "\n",
    "sentence = \"this is a long sentence with many words, okay?\"\n",
    "size = word_count(sentence)\n",
    "print(f'total words: {size}')\n"
   ]
  },
  {
   "cell_type": "code",
   "execution_count": null,
   "metadata": {},
   "outputs": [],
   "source": [
    "#required positional parameter\n",
    "def multiplier (a,b,c,d):\n",
    "    ans=a*b*c*d\n",
    "    return ans"
   ]
  },
  {
   "cell_type": "code",
   "execution_count": null,
   "metadata": {},
   "outputs": [
    {
     "name": "stdout",
     "output_type": "stream",
     "text": [
      "24\n",
      "60\n",
      "36\n",
      "50\n"
     ]
    }
   ],
   "source": [
    "print(multiplier(1,2,3,4))                  #positional argument\n",
    "print(multiplier(a=2,b=2,c=3,d=5))          #keyword argument\n",
    "print(multiplier(b=3, c=3, a=1, d=4))       #keyword argument in any order\n",
    "print(multiplier(1, 2, d=5, c=5))           #mix of positional and keyword argument"
   ]
  },
  {
   "cell_type": "code",
   "execution_count": null,
   "metadata": {},
   "outputs": [],
   "source": [
    "#default parameter\n",
    "def multiplier_v2(a,b,c,d=1):\n",
    "    ans=a*b*c*d\n",
    "    return ans\n"
   ]
  },
  {
   "cell_type": "code",
   "execution_count": null,
   "metadata": {},
   "outputs": [
    {
     "name": "stdout",
     "output_type": "stream",
     "text": [
      "24\n",
      "6\n",
      "24\n"
     ]
    }
   ],
   "source": [
    "print(multiplier_v2(1,2,3,4))\n",
    "print(multiplier_v2(1,2,3))  # d is optional (default value = 1)\n",
    "print(multiplier_v2(1,2,3, d=4)) "
   ]
  },
  {
   "cell_type": "code",
   "execution_count": null,
   "metadata": {},
   "outputs": [],
   "source": [
    "def multiplier_v3(a=1, b=1, c=1, d=1):\n",
    "    ans = a * b * c * d\n",
    "    return ans"
   ]
  },
  {
   "cell_type": "code",
   "execution_count": null,
   "metadata": {},
   "outputs": [
    {
     "name": "stdout",
     "output_type": "stream",
     "text": [
      "1\n",
      "10\n",
      "10\n",
      "200\n",
      "200\n",
      "240000\n",
      "240000\n"
     ]
    }
   ],
   "source": [
    "print(multiplier_v3())\n",
    "print(multiplier_v3(10))\n",
    "print(multiplier_v3(b=10))\n",
    "print(multiplier_v3(10, 20))\n",
    "print(multiplier_v3(10, c=20))\n",
    "print(multiplier_v3(10, 20, 30, 40))\n",
    "print(multiplier_v3(10, 20, d=30, c=40))"
   ]
  },
  {
   "cell_type": "code",
   "execution_count": null,
   "metadata": {},
   "outputs": [
    {
     "data": {
      "text/plain": [
       "['hell', ' w', 'rld']"
      ]
     },
     "execution_count": 10,
     "metadata": {},
     "output_type": "execute_result"
    }
   ],
   "source": [
    "\"hello world\".split('o')   #default parameter example in predefined function"
   ]
  },
  {
   "cell_type": "code",
   "execution_count": null,
   "metadata": {},
   "outputs": [
    {
     "name": "stdout",
     "output_type": "stream",
     "text": [
      "\n",
      "1\n",
      "1 2 3\n",
      "1|2|3|4|5|6|7|8|9|0|1\n"
     ]
    }
   ],
   "source": [
    "# variable length argument\n",
    "print()\n",
    "print(1)\n",
    "print(1,2,3)\n",
    "print(1,2,3,4,5,6,7,8,9,0,1, sep='|')"
   ]
  },
  {
   "cell_type": "code",
   "execution_count": null,
   "metadata": {},
   "outputs": [],
   "source": [
    "def stats(*nums, action='mean'):\n",
    "    if action=='mean':\n",
    "        total=sum(nums)\n",
    "        size=len(nums)\n",
    "        return total/size\n",
    "    elif action == 'sum':\n",
    "        return sum(nums)\n"
   ]
  },
  {
   "cell_type": "code",
   "execution_count": null,
   "metadata": {},
   "outputs": [
    {
     "name": "stdout",
     "output_type": "stream",
     "text": [
      "5.0\n",
      "44.0\n",
      "3.0\n",
      "12\n"
     ]
    }
   ],
   "source": [
    "print(stats(1,2,3,4,5,6,7,8,9))\n",
    "print(stats(22,33,44,55,66))\n",
    "print(stats(4,5,1,2))\n",
    "print(stats(4,5,1,2, action='sum'))"
   ]
  },
  {
   "cell_type": "markdown",
   "metadata": {},
   "source": [
    "when defining a function:\n",
    "- only one parameter can be variable length parameter (*args)\n",
    "- only one parameter cab be variable keyword parameter (**kwargs)\n",
    "- default parameters should be at the end\n"
   ]
  },
  {
   "cell_type": "code",
   "execution_count": null,
   "metadata": {},
   "outputs": [],
   "source": [
    "#variable length keyword argument\n",
    "def person(**details):\n",
    "    print(\"details of person\")\n",
    "    for k,v in details.items():\n",
    "        print(f\"{k:20} | {v}\")"
   ]
  },
  {
   "cell_type": "code",
   "execution_count": null,
   "metadata": {},
   "outputs": [
    {
     "name": "stdout",
     "output_type": "stream",
     "text": [
      "details of person\n",
      "name                 | rahul\n",
      "details of person\n",
      "name                 | sandeep yadav\n",
      "age                  | 25\n",
      "city                 | lucknow\n",
      "country              | india\n",
      "gender               | male\n",
      "details of person\n",
      "name                 | arti\n",
      "age                  | 20\n",
      "city                 | lucknow\n",
      "job                  | engineer\n"
     ]
    }
   ],
   "source": [
    "person(name='rahul')\n",
    "person(name='sandeep yadav',age='25',city='lucknow',country='india',gender='male')\n",
    "person(name='arti',age='20',city='lucknow',job='engineer')"
   ]
  },
  {
   "cell_type": "markdown",
   "metadata": {},
   "source": [
    "Lambda expression: simple equation as functions\n",
    "\n",
    "mathematical functions:\n",
    "\n",
    "\n",
    "    f(x) = x**2 + 1\n",
    "    g(x, y) = x**2 + y**2 + 1\n",
    "\n",
    "\n",
    "lambda expression:\n",
    "\n",
    "    f = lambda x: x**2 + 1  \n",
    "    g = lambda x, y: x**2 + y**2 + 1\n",
    "\n"
   ]
  },
  {
   "cell_type": "code",
   "execution_count": null,
   "metadata": {},
   "outputs": [
    {
     "data": {
      "text/plain": [
       "<function __main__.<lambda>(x)>"
      ]
     },
     "execution_count": 13,
     "metadata": {},
     "output_type": "execute_result"
    }
   ],
   "source": [
    "f=lambda x: x**2+1\n",
    "f"
   ]
  },
  {
   "cell_type": "code",
   "execution_count": null,
   "metadata": {},
   "outputs": [
    {
     "name": "stdout",
     "output_type": "stream",
     "text": [
      "101\n",
      "5\n",
      "10001\n"
     ]
    }
   ],
   "source": [
    "print(f(10))\n",
    "print(f(2))\n",
    "print(f(100))"
   ]
  },
  {
   "cell_type": "code",
   "execution_count": null,
   "metadata": {},
   "outputs": [
    {
     "name": "stdout",
     "output_type": "stream",
     "text": [
      "14\n",
      "26\n"
     ]
    }
   ],
   "source": [
    "g = lambda x,y: x**2+y**2+1\n",
    "print(g(2,3))\n",
    "print(g(3,4))\n"
   ]
  },
  {
   "cell_type": "code",
   "execution_count": null,
   "metadata": {},
   "outputs": [
    {
     "data": {
      "text/plain": [
       "[2, 5, 10, 17, 26, 37, 50, 65, 82, 101]"
      ]
     },
     "execution_count": 15,
     "metadata": {},
     "output_type": "execute_result"
    }
   ],
   "source": [
    "data = [1,2,3,4,5,6,7,8,9,10]\n",
    "f = lambda x: x**2+1\n",
    "list (map(f,data))"
   ]
  },
  {
   "cell_type": "code",
   "execution_count": null,
   "metadata": {},
   "outputs": [
    {
     "data": {
      "text/plain": [
       "(2, 5, 10, 17, 26, 37, 50, 65, 82, 101)"
      ]
     },
     "execution_count": 16,
     "metadata": {},
     "output_type": "execute_result"
    }
   ],
   "source": [
    "tuple(map(f,data))"
   ]
  },
  {
   "cell_type": "code",
   "execution_count": null,
   "metadata": {},
   "outputs": [
    {
     "data": {
      "text/plain": [
       "[102, 405, 910, 1617, 2526, 3637, 4950, 6465, 8182, 501]"
      ]
     },
     "execution_count": 35,
     "metadata": {},
     "output_type": "execute_result"
    }
   ],
   "source": [
    "data1=[1,2,3,4,5,6,7,8,9,10]\n",
    "data2=[10,20,30,40,50,60,70,80,90,20]\n",
    "g=lambda x,y: x**2+y**2+1\n",
    "list(map(g,data1,data2))"
   ]
  },
  {
   "cell_type": "code",
   "execution_count": 31,
   "metadata": {},
   "outputs": [],
   "source": [
    "def cal_fact(n):\n",
    "    fact = 1\n",
    "    for i in range(1,n+1):\n",
    "        fact *= i\n",
    "    print(fact) "
   ]
  },
  {
   "cell_type": "code",
   "execution_count": 34,
   "metadata": {},
   "outputs": [
    {
     "name": "stdout",
     "output_type": "stream",
     "text": [
      "720\n"
     ]
    }
   ],
   "source": [
    "cal_fact(6)"
   ]
  },
  {
   "cell_type": "code",
   "execution_count": 37,
   "metadata": {},
   "outputs": [
    {
     "name": "stdout",
     "output_type": "stream",
     "text": [
      "6\n",
      "5\n",
      "4\n",
      "3\n",
      "2\n",
      "1\n"
     ]
    }
   ],
   "source": [
    "#recursion\n",
    "\n",
    "def show(n):\n",
    "    if (n==0):\n",
    "        return\n",
    "    print(n) \n",
    "    show(n-1)\n",
    "\n",
    "\n",
    "show(6)\n"
   ]
  },
  {
   "cell_type": "code",
   "execution_count": null,
   "metadata": {},
   "outputs": [],
   "source": []
  }
 ],
 "metadata": {
  "kernelspec": {
   "display_name": "base",
   "language": "python",
   "name": "python3"
  },
  "language_info": {
   "codemirror_mode": {
    "name": "ipython",
    "version": 3
   },
   "file_extension": ".py",
   "mimetype": "text/x-python",
   "name": "python",
   "nbconvert_exporter": "python",
   "pygments_lexer": "ipython3",
   "version": "3.12.4"
  }
 },
 "nbformat": 4,
 "nbformat_minor": 2
}
