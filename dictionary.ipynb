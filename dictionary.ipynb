{
 "cells": [
  {
   "cell_type": "markdown",
   "metadata": {},
   "source": [
    "# Dictionary\n",
    "- how to declare it\n",
    "- how to access key and value of a dictionary\n",
    "- how to use loops in dictionary"
   ]
  },
  {
   "cell_type": "markdown",
   "metadata": {},
   "source": []
  },
  {
   "cell_type": "code",
   "execution_count": 2,
   "metadata": {},
   "outputs": [
    {
     "name": "stdout",
     "output_type": "stream",
     "text": [
      "{'name': 'John', 'class': '12th', 'roll no': 12, 'age': 17}\n"
     ]
    }
   ],
   "source": [
    "student = {\n",
    "    \"name\" : \"John\",\n",
    "    \"class\" : \"12th\",\n",
    "    \"roll no\" : 12,\n",
    "    \"age\" : 17\n",
    "}\n",
    "print(student)"
   ]
  },
  {
   "cell_type": "code",
   "execution_count": 3,
   "metadata": {},
   "outputs": [
    {
     "name": "stdout",
     "output_type": "stream",
     "text": [
      "{'lucknow': [25, 30, 35], 'delhi': [30, 35, 40], 'chennai': [24, 23, 22]}\n"
     ]
    }
   ],
   "source": [
    "temp = {\n",
    "    \"lucknow\" : [25,30,35],\n",
    "    \"delhi\" : [30,35,40],\n",
    "    \"chennai\" : [24,23,22]\n",
    "}\n",
    "print(temp)"
   ]
  },
  {
   "cell_type": "code",
   "execution_count": 5,
   "metadata": {},
   "outputs": [
    {
     "name": "stdout",
     "output_type": "stream",
     "text": [
      "{'name': 'Riya', 'age': 27, 'dept': 'HR', 'salary': 30000}\n"
     ]
    }
   ],
   "source": [
    "info = dict(name='Riya' , age=27 , dept= 'HR', salary = 30000)\n",
    "print(info)"
   ]
  },
  {
   "cell_type": "code",
   "execution_count": 3,
   "metadata": {},
   "outputs": [
    {
     "name": "stdout",
     "output_type": "stream",
     "text": [
      "{'name': 'sandeep', 'age': 25, 'dept': 'hr', 'salary': 30000}\n"
     ]
    }
   ],
   "source": [
    "info2 = dict(name=input(\"enter the name\") , age = int(input(\"enter the age\")) , dept= input(\"enter the department\") , salary = int(input(\"enter the salary\")))\n",
    "\n",
    "print(info2)"
   ]
  },
  {
   "cell_type": "code",
   "execution_count": 18,
   "metadata": {},
   "outputs": [
    {
     "name": "stdout",
     "output_type": "stream",
     "text": [
      "sandeep\n",
      "25\n",
      "hr\n"
     ]
    }
   ],
   "source": [
    "print(info2['name'])\n",
    "print(info2['age'])\n",
    "print(info2['dept'])"
   ]
  },
  {
   "cell_type": "code",
   "execution_count": 19,
   "metadata": {},
   "outputs": [
    {
     "name": "stdout",
     "output_type": "stream",
     "text": [
      "sandeep\n",
      "25\n",
      "30000\n"
     ]
    }
   ],
   "source": [
    "print(info2.get('name'))\n",
    "print(info2.get('age'))\n",
    "print(info2.get('salary'))"
   ]
  },
  {
   "cell_type": "code",
   "execution_count": 30,
   "metadata": {},
   "outputs": [
    {
     "name": "stdout",
     "output_type": "stream",
     "text": [
      "{'name': 'sandeep', 'age': 25, 'dept': 'hr', 'salary': 30000, 'school': 'DPS', 'city': 'Lucknow', 'School': 'DPS', 'City': 'Lucknow'}\n"
     ]
    }
   ],
   "source": [
    "#add items to a dictionary\n",
    "info2['School'] = 'DPS'\n",
    "info2['city'] = 'Lucknow'\n",
    "print(info2)"
   ]
  },
  {
   "cell_type": "code",
   "execution_count": 20,
   "metadata": {},
   "outputs": [
    {
     "name": "stdout",
     "output_type": "stream",
     "text": [
      "name\n",
      "age\n",
      "dept\n",
      "salary\n",
      "school\n",
      "city\n",
      "School\n",
      "City\n"
     ]
    }
   ],
   "source": [
    "for x in info2:\n",
    "    print(x)"
   ]
  },
  {
   "cell_type": "code",
   "execution_count": 29,
   "metadata": {},
   "outputs": [
    {
     "name": "stdout",
     "output_type": "stream",
     "text": [
      "name : sandeep\n",
      "age : 25\n",
      "dept : hr\n",
      "salary : 30000\n",
      "school : DPS\n",
      "city : Lucknow\n",
      "School : DPS\n",
      "City : Lucknow\n"
     ]
    }
   ],
   "source": [
    "for i, v in info2.items():\n",
    "    print(f'{i} : {v}')"
   ]
  },
  {
   "cell_type": "code",
   "execution_count": 32,
   "metadata": {},
   "outputs": [
    {
     "name": "stdout",
     "output_type": "stream",
     "text": [
      "dict_keys(['name', 'age', 'dept', 'salary', 'school', 'city', 'School', 'City'])\n",
      "dict_values(['sandeep', 25, 'hr', 30000, 'DPS', 'Lucknow', 'DPS', 'Lucknow'])\n",
      "dict_items([('name', 'sandeep'), ('age', 25), ('dept', 'hr'), ('salary', 30000), ('school', 'DPS'), ('city', 'Lucknow'), ('School', 'DPS'), ('City', 'Lucknow')])\n"
     ]
    }
   ],
   "source": [
    "print(info2.keys())\n",
    "print(info2.values())\n",
    "print(info2.items())"
   ]
  },
  {
   "cell_type": "code",
   "execution_count": 34,
   "metadata": {},
   "outputs": [
    {
     "name": "stdout",
     "output_type": "stream",
     "text": [
      "{'emp001': {'name': 'John', 'age': '27', 'dept': 'HR', 'salary': 30000}, 'emp002': {'name': 'Riya', 'age': 25, 'dept': 'IT', 'salary': 40000}, 'emp003': {'name': 'Mike', 'age': 30, 'dept': 'Finance', 'salary': 35000}}\n"
     ]
    }
   ],
   "source": [
    "#nested dictionary\n",
    "company = {\n",
    "         'emp001' : {\n",
    "\n",
    "        'name' : 'John',\n",
    "        'age' : '27',\n",
    "        'dept' : 'HR',\n",
    "        'salary' : 30000\n",
    "\n",
    "        },\n",
    "        'emp002' : {\n",
    "        'name' : 'Riya',\n",
    "        'age' : 25,\n",
    "        'dept' : 'IT',\n",
    "        'salary' : 40000\n",
    "        },\n",
    "\n",
    "        'emp003' : {\n",
    "         'name' : 'Mike',\n",
    "         'age' : 30,\n",
    "         'dept' : 'Finance',\n",
    "        'salary' : 35000\n",
    "        }\n",
    "}\n",
    "print(company)\n"
   ]
  },
  {
   "cell_type": "code",
   "execution_count": 36,
   "metadata": {},
   "outputs": [],
   "source": [
    "from pprint import pp"
   ]
  },
  {
   "cell_type": "code",
   "execution_count": 41,
   "metadata": {},
   "outputs": [
    {
     "name": "stdout",
     "output_type": "stream",
     "text": [
      "{'emp001': {'name': 'John', 'age': '27', 'dept': 'HR', 'salary': 30000},\n",
      " 'emp002': {'name': 'Riya', 'age': 25, 'dept': 'IT', 'salary': 40000},\n",
      " 'emp003': {'name': 'Mike', 'age': 30, 'dept': 'Finance', 'salary': 35000}}\n"
     ]
    }
   ],
   "source": [
    "pp(company)\n"
   ]
  },
  {
   "cell_type": "code",
   "execution_count": 46,
   "metadata": {},
   "outputs": [
    {
     "name": "stdout",
     "output_type": "stream",
     "text": [
      "{'name': 'John', 'age': '27', 'dept': 'HR', 'salary': 30000}\n",
      "HR\n",
      "{'name': 'Riya', 'age': 25, 'dept': 'IT', 'salary': 40000}\n",
      "40000\n",
      "{'name': 'Mike', 'age': 30, 'dept': 'Finance', 'salary': 35000}\n"
     ]
    }
   ],
   "source": [
    "#value acces from nested dictionary\n",
    "print(company['emp001'])\n",
    "print(company['emp001']['dept'])\n",
    "print(company['emp002'])\n",
    "print(company['emp002']['salary'])\n",
    "print(company['emp003'])"
   ]
  },
  {
   "cell_type": "code",
   "execution_count": 51,
   "metadata": {},
   "outputs": [
    {
     "name": "stdout",
     "output_type": "stream",
     "text": [
      "{'emp001': {'name': 'Sam', 'age': 35, 'dept': 'Admin', 'salary': 25000},\n",
      " 'emp002': {'name': 'Riya', 'age': 25, 'dept': 'IT', 'salary': 40000},\n",
      " 'emp003': {'name': 'Mike', 'age': 30, 'dept': 'Finance', 'salary': 35000},\n",
      " 'emp004': {'name': 'John', 'age': 27, 'dept': 'HR', 'salary': 30000}}\n"
     ]
    }
   ],
   "source": [
    "#add items in dictionary\n",
    "company['emp004'] = {\n",
    "    'name' : 'John',\n",
    "    'age' : 27,\n",
    "    'dept' : 'HR',\n",
    "    'salary' : 30000\n",
    "}\n",
    "pp(company)"
   ]
  },
  {
   "cell_type": "code",
   "execution_count": 50,
   "metadata": {},
   "outputs": [
    {
     "name": "stdout",
     "output_type": "stream",
     "text": [
      "{'emp001': {'name': 'Sam', 'age': 35, 'dept': 'Admin', 'salary': 25000}, 'emp002': {'name': 'Riya', 'age': 25, 'dept': 'IT', 'salary': 40000}, 'emp003': {'name': 'Mike', 'age': 30, 'dept': 'Finance', 'salary': 35000}, 'emp004': {'name': 'Sam', 'age': 35, 'dept': 'Admin', 'salary': 25000}}\n"
     ]
    }
   ],
   "source": [
    "print(company)"
   ]
  },
  {
   "cell_type": "code",
   "execution_count": 55,
   "metadata": {},
   "outputs": [
    {
     "name": "stdout",
     "output_type": "stream",
     "text": [
      "{'lucknow': [25, 30, 35], 'delhi': [30, 35, 40], 'chennai': [24, 23, 22]}\n"
     ]
    }
   ],
   "source": [
    "temp1 = {\n",
    "    \"lucknow\" : [25,30,35],\n",
    "    \"delhi\" : [30,35,40],\n",
    "    \"chennai\" : [24,23,22]\n",
    "}\n",
    "print(temp1)"
   ]
  },
  {
   "cell_type": "code",
   "execution_count": 57,
   "metadata": {},
   "outputs": [
    {
     "name": "stdout",
     "output_type": "stream",
     "text": [
      "30\n",
      "40\n"
     ]
    }
   ],
   "source": [
    "print(temp1['lucknow'][1])\n",
    "print(temp1['delhi'][2])"
   ]
  },
  {
   "cell_type": "code",
   "execution_count": 70,
   "metadata": {},
   "outputs": [
    {
     "name": "stdout",
     "output_type": "stream",
     "text": [
      "Average temperature in Delhi : 35.0\n"
     ]
    }
   ],
   "source": [
    "print('Average temperature in Delhi :', sum(temp1['delhi'])/len(temp1['delhi']) )\n",
    "\n",
    "\n"
   ]
  },
  {
   "cell_type": "markdown",
   "metadata": {},
   "source": [
    "Alex\n",
    "-> English 85\n",
    "-> Maths 80\n",
    "-> Science 78\n",
    "-> Total Marks : 243\n",
    "Rahul\n",
    "-> English\n",
    "-> Maths\n",
    "-> Science\n",
    "-> Total Marks : 255"
   ]
  },
  {
   "cell_type": "code",
   "execution_count": 71,
   "metadata": {},
   "outputs": [
    {
     "name": "stdout",
     "output_type": "stream",
     "text": [
      "{'Alex': {'English': 85, 'Maths': 80, 'Science': 78},\n",
      " 'Rahul': {'English': 80, 'Maths': 85, 'Science': 90}}\n"
     ]
    }
   ],
   "source": [
    "report = {\n",
    "    'Alex' : {\n",
    "        'English' : 85,\n",
    "        'Maths' : 80,\n",
    "        'Science' : 78\n",
    "    },\n",
    "    'Rahul' : {\n",
    "        'English' : 80,\n",
    "        'Maths' : 85,\n",
    "        'Science' : 90\n",
    "    },\n",
    "}\n",
    "pp(report)"
   ]
  },
  {
   "cell_type": "code",
   "execution_count": 72,
   "metadata": {},
   "outputs": [
    {
     "name": "stdout",
     "output_type": "stream",
     "text": [
      "Alex\n",
      "-> English 85\n",
      "-> Maths 80\n",
      "-> Science 78\n",
      "-> Total Marks : 243\n",
      "Rahul\n",
      "-> English 80\n",
      "-> Maths 85\n",
      "-> Science 90\n",
      "-> Total Marks : 255\n"
     ]
    }
   ],
   "source": [
    "for student, marks in report.items():\n",
    "    print(student)\n",
    "    for subject, mark in marks.items():\n",
    "        print('->', subject, mark)\n",
    "    print('-> Total Marks :', sum(marks.values()))"
   ]
  },
  {
   "cell_type": "code",
   "execution_count": null,
   "metadata": {},
   "outputs": [],
   "source": []
  }
 ],
 "metadata": {
  "kernelspec": {
   "display_name": "base",
   "language": "python",
   "name": "python3"
  },
  "language_info": {
   "codemirror_mode": {
    "name": "ipython",
    "version": 3
   },
   "file_extension": ".py",
   "mimetype": "text/x-python",
   "name": "python",
   "nbconvert_exporter": "python",
   "pygments_lexer": "ipython3",
   "version": "3.12.4"
  }
 },
 "nbformat": 4,
 "nbformat_minor": 2
}
