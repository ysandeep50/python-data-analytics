{
 "cells": [
  {
   "cell_type": "code",
   "execution_count": 46,
   "metadata": {},
   "outputs": [
    {
     "name": "stdout",
     "output_type": "stream",
     "text": [
      "This is my string\n",
      "This is my string\n",
      "This is my string\n"
     ]
    }
   ],
   "source": [
    "str1 = \"This is my string\"\n",
    "str2 = 'This is my string'\n",
    "str3 = \"\"\"This is my string\"\"\"\n",
    "print(str1)\n",
    "print(str2)\n",
    "print(str3)"
   ]
  },
  {
   "cell_type": "code",
   "execution_count": 47,
   "metadata": {},
   "outputs": [
    {
     "name": "stdout",
     "output_type": "stream",
     "text": [
      "This is a string.\n",
      "we are creating it in python\n"
     ]
    }
   ],
   "source": [
    "str1 = \"This is a string.\\nwe are creating it in python\"\n",
    "print(str1)"
   ]
  },
  {
   "cell_type": "code",
   "execution_count": 5,
   "metadata": {},
   "outputs": [
    {
     "name": "stdout",
     "output_type": "stream",
     "text": [
      "Johny Johny yes mama \n",
      "eating sugar no mama \n",
      "telling a lie no mama \n",
      "open your mouth hahaha\n"
     ]
    }
   ],
   "source": [
    "str = \"Johny Johny yes papa \\neating sugar no papa \\ntelling a lie no papa \\nopen your mouth hahaha\"\n",
    "print(str.replace('papa','mama'))\n"
   ]
  },
  {
   "cell_type": "code",
   "execution_count": 57,
   "metadata": {},
   "outputs": [
    {
     "name": "stdout",
     "output_type": "stream",
     "text": [
      "Sandeep Yadav\n"
     ]
    },
    {
     "data": {
      "text/plain": [
       "13"
      ]
     },
     "execution_count": 57,
     "metadata": {},
     "output_type": "execute_result"
    }
   ],
   "source": [
    "str1 = \"Sandeep\" #str concatenation\n",
    "str2 = \"Yadav\"\n",
    "final_str =str1 + \" \" + str2\n",
    "print(final_str)\n",
    "len(final_str)"
   ]
  },
  {
   "cell_type": "code",
   "execution_count": 50,
   "metadata": {},
   "outputs": [
    {
     "data": {
      "text/plain": [
       "22"
      ]
     },
     "execution_count": 50,
     "metadata": {},
     "output_type": "execute_result"
    }
   ],
   "source": [
    "str = \"This is my last coding\"  #str length\n",
    "len(str)"
   ]
  },
  {
   "cell_type": "code",
   "execution_count": 51,
   "metadata": {},
   "outputs": [
    {
     "name": "stdout",
     "output_type": "stream",
     "text": [
      "a\n",
      "S\n",
      "p\n"
     ]
    }
   ],
   "source": [
    "str = \"Sandeep\"  #indexing\n",
    "print(str[1])\n",
    "print(str[0])\n",
    "print(str[6])\n",
    "\n"
   ]
  },
  {
   "cell_type": "code",
   "execution_count": 52,
   "metadata": {},
   "outputs": [
    {
     "name": "stdout",
     "output_type": "stream",
     "text": [
      "igi\n",
      "odium\n",
      "igipodium\n"
     ]
    }
   ],
   "source": [
    "#slicing\n",
    "str = \"Digipodium\"\n",
    "print(str[1:4])\n",
    "print(str[5:len(str)])\n",
    "print(str[1:])"
   ]
  },
  {
   "cell_type": "code",
   "execution_count": 1,
   "metadata": {},
   "outputs": [
    {
     "name": "stdout",
     "output_type": "stream",
     "text": [
      "\n"
     ]
    }
   ],
   "source": [
    "#negative indexing\n",
    "str = \"Amit\"\n",
    "print(str[-1:-3])"
   ]
  },
  {
   "cell_type": "code",
   "execution_count": 2,
   "metadata": {},
   "outputs": [
    {
     "name": "stdout",
     "output_type": "stream",
     "text": [
      "True\n",
      "False\n",
      "I am  studying python from digipodium\n",
      "I am  studying javascript from Digipodium\n",
      "13\n",
      "1\n"
     ]
    }
   ],
   "source": [
    "#string function\n",
    "a = \"I am  studying python from Digipodium\"\n",
    "print(a.endswith(\"um\"))\n",
    "print(a.endswith(\"ge\"))\n",
    "print(a.capitalize())\n",
    "print(a.replace(\"python\",\"javascript\"))\n",
    "print(a.find(\"g\"))\n",
    "print(a.count(\"a\"))"
   ]
  },
  {
   "cell_type": "code",
   "execution_count": 72,
   "metadata": {},
   "outputs": [
    {
     "name": "stdout",
     "output_type": "stream",
     "text": [
      "Length of your name is 7\n"
     ]
    }
   ],
   "source": [
    "#wap to input user's first name and print its length.\n",
    "str = input(\"Enter first name\")\n",
    "print(\"Length of your name is\",len(str))"
   ]
  },
  {
   "cell_type": "code",
   "execution_count": 71,
   "metadata": {},
   "outputs": [
    {
     "name": "stdout",
     "output_type": "stream",
     "text": [
      "4\n"
     ]
    }
   ],
   "source": [
    "#wap to find occurence of $ in a string.\n",
    "str1 = \"My $ name $ is $ Sandeep $\"\n",
    "print(str1.count(\"$\"))"
   ]
  },
  {
   "cell_type": "code",
   "execution_count": 91,
   "metadata": {},
   "outputs": [
    {
     "name": "stdout",
     "output_type": "stream",
     "text": [
      "go\n"
     ]
    }
   ],
   "source": [
    "#conditional statement   if , elif , else\n",
    "\n",
    "light = \"green\"\n",
    "\n",
    "if(light == \"red\"):\n",
    "    print(\"stop\")\n",
    "elif(light == \"green\"):\n",
    "    print(\"go\")\n",
    "elif(light == \"yellow\"):\n",
    "    print(\"look\")\n",
    "else:\n",
    "    print(\"light is broken\")\n",
    "\n",
    "\n",
    "\n",
    " "
   ]
  },
  {
   "cell_type": "code",
   "execution_count": 95,
   "metadata": {},
   "outputs": [
    {
     "name": "stdout",
     "output_type": "stream",
     "text": [
      " can vote\n"
     ]
    }
   ],
   "source": [
    "age = 22\n",
    "\n",
    "if (age>= 18):\n",
    "    print(\" can vote\")\n",
    "else:\n",
    "    print(\"cannot vote\")"
   ]
  },
  {
   "cell_type": "code",
   "execution_count": 113,
   "metadata": {},
   "outputs": [
    {
     "name": "stdout",
     "output_type": "stream",
     "text": [
      "grade of student-> D\n"
     ]
    }
   ],
   "source": [
    "marks =int(input(\"enter marks :\"))\n",
    "\n",
    "if(marks >= 90):\n",
    "    grade = \"A\"\n",
    "elif(marks >= 80 and marks < 90):\n",
    "    grade = \"B\"\n",
    "elif(marks >= 70 and marks < 80):\n",
    "    grade = \"C\"\n",
    "else:\n",
    "     grade = \"D\"\n",
    "\n",
    "print(\"grade of student->\", grade)"
   ]
  },
  {
   "cell_type": "code",
   "execution_count": 117,
   "metadata": {},
   "outputs": [
    {
     "name": "stdout",
     "output_type": "stream",
     "text": [
      "the number is odd\n"
     ]
    }
   ],
   "source": [
    "#wap to check if a number entered by the user is odd or even.\n",
    "\n",
    "a = int(input(\"enter number\"))\n",
    "if a%2 == 0:\n",
    "    print(\"the number is even\")\n",
    "if a%2 != 0:\n",
    "    print(\"the number is odd\")"
   ]
  },
  {
   "cell_type": "code",
   "execution_count": 126,
   "metadata": {},
   "outputs": [
    {
     "name": "stdout",
     "output_type": "stream",
     "text": [
      "c is greatest 20\n"
     ]
    }
   ],
   "source": [
    "#wap to find the greatest of 3 numbers entered by the user.\n",
    "\n",
    "a  = input(\"enter 1st number\")\n",
    "b = input(\"enter 2nd number\")\n",
    "c = input(\"enter 3rd number\")\n",
    "if(a > b and a > c):\n",
    "    print(\"a is greatest\",a)\n",
    "if(b > a and b > c):\n",
    "    print(\"b is greatest\",b)\n",
    "else:\n",
    "    print(\"c is greatest\",c)"
   ]
  },
  {
   "cell_type": "code",
   "execution_count": 119,
   "metadata": {},
   "outputs": [
    {
     "name": "stdout",
     "output_type": "stream",
     "text": [
      "not valid\n"
     ]
    }
   ],
   "source": [
    "#wap to check a number is multiple of 7 or not.\n",
    "a = int(input(\"enter number\"))\n",
    "if a%7 == 0:\n",
    "    print(\"multiple of 7\")\n",
    "else:\n",
    "    print(\"not valid\")"
   ]
  },
  {
   "cell_type": "code",
   "execution_count": null,
   "metadata": {},
   "outputs": [],
   "source": []
  }
 ],
 "metadata": {
  "kernelspec": {
   "display_name": "base",
   "language": "python",
   "name": "python3"
  },
  "language_info": {
   "codemirror_mode": {
    "name": "ipython",
    "version": 3
   },
   "file_extension": ".py",
   "mimetype": "text/x-python",
   "name": "python",
   "nbconvert_exporter": "python",
   "pygments_lexer": "ipython3",
   "version": "3.12.4"
  }
 },
 "nbformat": 4,
 "nbformat_minor": 2
}
