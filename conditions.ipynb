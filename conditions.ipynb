{
 "cells": [
  {
   "cell_type": "markdown",
   "metadata": {},
   "source": [
    "# condition in python\n",
    "\n",
    " - block of code-\n",
    "    -if,else,elif,while,for,try,except,fnally,with,def,class\n",
    " - if condition\n",
    " - if else condition\n",
    " - if elif ladder\n",
    " - nested if else\n",
    " - short hand if else\n",
    " - match case\n",
    " "
   ]
  },
  {
   "cell_type": "code",
   "execution_count": 29,
   "metadata": {},
   "outputs": [
    {
     "name": "stdout",
     "output_type": "stream",
     "text": [
      "a is greater than 5\n",
      "hi\n",
      "bye\n"
     ]
    }
   ],
   "source": [
    "a = 10\n",
    "if a > 5:\n",
    "    print(\"a is greater than 5\")\n",
    "    print('hi')\n",
    "    print('bye')"
   ]
  },
  {
   "cell_type": "code",
   "execution_count": 30,
   "metadata": {},
   "outputs": [
    {
     "name": "stdout",
     "output_type": "stream",
     "text": [
      "very good, you know how to type long word\n"
     ]
    }
   ],
   "source": [
    "word = input('enter a long word')\n",
    "if len(word)> 10:\n",
    "    print(\"very good, you know how to type long word\")"
   ]
  },
  {
   "cell_type": "code",
   "execution_count": 31,
   "metadata": {},
   "outputs": [
    {
     "name": "stdout",
     "output_type": "stream",
     "text": [
      "yay 100\n"
     ]
    }
   ],
   "source": [
    "n = [12,21,32,43]\n",
    "if sum(n)>100:\n",
    "    print(\"yay 100\")\n",
    "else:\n",
    "    print(\"not 100\")"
   ]
  },
  {
   "cell_type": "code",
   "execution_count": 2,
   "metadata": {},
   "outputs": [
    {
     "name": "stdout",
     "output_type": "stream",
     "text": [
      "Grade is B\n"
     ]
    }
   ],
   "source": [
    "# if elif ladder\n",
    "marks = 80\n",
    "if marks > 85:\n",
    "    grade = 'A'\n",
    "elif marks > 70:\n",
    "    grade = 'B'\n",
    "elif marks > 60:\n",
    "    grade = 'C'\n",
    "elif marks > 50:\n",
    "    grade = 'D'\n",
    "else:\n",
    "    grade = 'F'\n",
    "\n",
    "print(f\"Grade is {grade}\")"
   ]
  },
  {
   "cell_type": "code",
   "execution_count": 33,
   "metadata": {},
   "outputs": [
    {
     "name": "stdout",
     "output_type": "stream",
     "text": [
      "C 52 is the largest\n"
     ]
    }
   ],
   "source": [
    "# Find the largest number\n",
    "a, b, c = 31, 23, 52\n",
    "if a > b and a > c:\n",
    "    print(f\"A {a} is the largest\")\n",
    "elif b > a and b > c:\n",
    "    print(f\"B {b} is the largest\")\n",
    "else:\n",
    "    print(f\"C {c} is the largest\")"
   ]
  },
  {
   "cell_type": "code",
   "execution_count": 16,
   "metadata": {},
   "outputs": [
    {
     "name": "stdout",
     "output_type": "stream",
     "text": [
      "Welcome, Admin\n"
     ]
    }
   ],
   "source": [
    "# nested if else\n",
    "un = input('enter a usernsme')\n",
    "pw = input('enter a password')                                \n",
    "if un and pw:\n",
    "    if un == 'admin':\n",
    "        if pw =='admin':\n",
    "            print(\"Welcome, Admin\")\n",
    "        else:\n",
    "            print(\"Wrong Password\")\n",
    "    else:\n",
    "        print(\"Invalid Username\")\n",
    "else:\n",
    "    print(\"Enter valid details\")"
   ]
  },
  {
   "cell_type": "code",
   "execution_count": 37,
   "metadata": {},
   "outputs": [
    {
     "name": "stdout",
     "output_type": "stream",
     "text": [
      "Welcome, Admin\n"
     ]
    }
   ],
   "source": [
    "errors = []\n",
    "un = input('enter a username')\n",
    "pw = input('enter a password')\n",
    "if un and pw:\n",
    "    if un != 'admin':\n",
    "        errors.append('Invalid username')\n",
    "    if pw != 'admin':\n",
    "        errors.append('Invalid password')\n",
    "    if not errors:\n",
    "        print(\"Welcome, Admin\")\n",
    "else:\n",
    "    errors.append('Enter valid details')"
   ]
  },
  {
   "cell_type": "code",
   "execution_count": 4,
   "metadata": {},
   "outputs": [
    {
     "name": "stdout",
     "output_type": "stream",
     "text": [
      "Right\n"
     ]
    }
   ],
   "source": [
    "# short hand if else\n",
    "a = 10\n",
    "if a >= 10:\n",
    "    print(\"Right\")\n",
    "else:\n",
    "    print(\"Wrong\")"
   ]
  },
  {
   "cell_type": "code",
   "execution_count": 11,
   "metadata": {},
   "outputs": [
    {
     "name": "stdout",
     "output_type": "stream",
     "text": [
      "Wrong\n",
      "Right\n"
     ]
    }
   ],
   "source": [
    "# short hand if else\n",
    "a = 13\n",
    "print(\"Right\") if a>=20 else print(\"Wrong\")\n",
    "print(\"Right\") if a>=10 else print(\"Wrong\")"
   ]
  },
  {
   "cell_type": "code",
   "execution_count": null,
   "metadata": {},
   "outputs": [
    {
     "name": "stdout",
     "output_type": "stream",
     "text": [
      "What would you like to eat\n",
      "Menu\n",
      "1. Pizza\n",
      "2. Burger\n",
      "3. Pasta\n",
      "4. Sandwich\n",
      "enter a number: \n",
      "Your order is Sandwich \n",
      "total amt = 99\n"
     ]
    }
   ],
   "source": [
    "# match case (not similar to switch case)\n",
    "print(\"What would you like to eat\")\n",
    "print(\"Menu\")\n",
    "print(\"1. Pizza\")\n",
    "print(\"2. Burger\")\n",
    "print(\"3. Pasta\")\n",
    "print(\"4. Sandwich\")\n",
    "print(\"enter a number: \")\n",
    "ch = int(input(\">>>\"))\n",
    "match ch:\n",
    "    case 1:\n",
    "        print(\"Your order is Pizza \\ntotal amt = 400\")\n",
    "    case 2:\n",
    "        print(\"Your order is Burger \\ntotal amt = 199\")\n",
    "    case 3:\n",
    "        print(\"Your order is Pasta \\ntotal amt = 299\")\n",
    "    case 4:\n",
    "        print(\"Your order is Sandwich \\ntotal amt = 99\")\n",
    "    case _:\n",
    "        print(\"Invalid choice\")"
   ]
  },
  {
   "cell_type": "code",
   "execution_count": null,
   "metadata": {},
   "outputs": [
    {
     "name": "stdout",
     "output_type": "stream",
     "text": [
      "What would you like to eat\n",
      "Menu\n",
      "1. Pizza\n",
      "2. Burger\n",
      "3. Pasta\n",
      "4. Sandwich\n",
      "enter a number: \n",
      "Your order is sandwich \n",
      "total amt = 99\n"
     ]
    }
   ],
   "source": [
    "# match case (not similar to switch case)\n",
    "print(\"What would you like to eat\")\n",
    "print(\"Menu\")\n",
    "print(\"1. Pizza\")\n",
    "print(\"2. Burger\")\n",
    "print(\"3. Pasta\")\n",
    "print(\"4. Sandwich\")\n",
    "print(\"enter a number: \")\n",
    "ch = int(input(\">>>\"))\n",
    "if ch == 1:\n",
    "    print(\"Your order is Pizza \\ntotal amt = 400\")\n",
    "elif ch == 2:\n",
    "    print(\"Your order is Burger \\ntotal amt = 199\")\n",
    "elif ch == 3:\n",
    "    print(\"Your order is Pasta \\ntotal amt = 299\")\n",
    "elif ch == 4:\n",
    "    print(\"Your order is sandwich \\ntotal amt = 99\")\n",
    "else:\n",
    "    print(\"Invalid choice\")\n",
    "        \n",
    "    "
   ]
  },
  {
   "cell_type": "code",
   "execution_count": 1,
   "metadata": {},
   "outputs": [
    {
     "name": "stdout",
     "output_type": "stream",
     "text": [
      "Wrong\n"
     ]
    }
   ],
   "source": [
    "n = [54,12,345,]\n",
    "if sum(n)>500:\n",
    "    print(\"right\")\n",
    "else:\n",
    "    print(\"Wrong\")\n"
   ]
  },
  {
   "cell_type": "code",
   "execution_count": 20,
   "metadata": {},
   "outputs": [
    {
     "name": "stdout",
     "output_type": "stream",
     "text": [
      "wrong\n",
      "wrong\n"
     ]
    }
   ],
   "source": [
    "a, b, c= 20, 30, 50\n",
    "print(\"right\") if a >=50 else print(\"wrong\")\n",
    "print(\"right\") if b >=50 else print(\"wrong\")"
   ]
  },
  {
   "cell_type": "code",
   "execution_count": null,
   "metadata": {},
   "outputs": [],
   "source": []
  }
 ],
 "metadata": {
  "kernelspec": {
   "display_name": "base",
   "language": "python",
   "name": "python3"
  },
  "language_info": {
   "codemirror_mode": {
    "name": "ipython",
    "version": 3
   },
   "file_extension": ".py",
   "mimetype": "text/x-python",
   "name": "python",
   "nbconvert_exporter": "python",
   "pygments_lexer": "ipython3",
   "version": "3.12.4"
  }
 },
 "nbformat": 4,
 "nbformat_minor": 2
}
