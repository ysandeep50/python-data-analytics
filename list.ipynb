{
 "cells": [
  {
   "cell_type": "code",
   "execution_count": 1,
   "metadata": {},
   "outputs": [
    {
     "name": "stdout",
     "output_type": "stream",
     "text": [
      "['chrome', 'firefox', 'photos', 'zomato', 'swiggy', 'uber', 'drive', 'instagram', 'facebook', 'whatsapp']\n"
     ]
    }
   ],
   "source": [
    "apps = ['chrome','firefox','photos','zomato','swiggy','uber','drive','instagram','facebook','whatsapp',]\n",
    "print(apps)"
   ]
  },
  {
   "cell_type": "code",
   "execution_count": 5,
   "metadata": {},
   "outputs": [
    {
     "name": "stdout",
     "output_type": "stream",
     "text": [
      "uber\n",
      "drive\n",
      "instagram\n",
      "firefox\n"
     ]
    }
   ],
   "source": [
    "print(apps[5])         #indexing\n",
    "print(apps[6])\n",
    "print(apps[-3])          #negative indexing\n",
    "print(apps[-9])"
   ]
  },
  {
   "cell_type": "code",
   "execution_count": 12,
   "metadata": {},
   "outputs": [
    {
     "name": "stdout",
     "output_type": "stream",
     "text": [
      "['chrome', 'firefox', 'photos']\n",
      "['chrome', 'photos', 'swiggy', 'drive', 'facebook']\n",
      "['chrome', 'firefox', 'photos', 'zomato', 'swiggy']\n",
      "['uber', 'drive', 'instagram', 'facebook', 'whatsapp']\n",
      "['chrome', 'firefox', 'photos', 'zomato', 'swiggy', 'uber', 'drive', 'instagram', 'facebook', 'whatsapp']\n",
      "['chrome', 'photos', 'swiggy', 'drive', 'facebook']\n"
     ]
    }
   ],
   "source": [
    "print(apps[0:3])               #slicing = making sub-list\n",
    "print(apps[0:10:2])             # 2 = gap\n",
    "print(apps[:5])\n",
    "print(apps[5:])\n",
    "print(apps[:])\n",
    "print(apps[::2])"
   ]
  },
  {
   "cell_type": "code",
   "execution_count": 13,
   "metadata": {},
   "outputs": [
    {
     "name": "stdout",
     "output_type": "stream",
     "text": [
      "['chrome', 'firefox', 'photos', 'zomato', 'swiggy', 'uber', 'drive', 'instagram', 'facebook', 'whatsapp']\n"
     ]
    }
   ],
   "source": [
    "print(apps)"
   ]
  },
  {
   "cell_type": "code",
   "execution_count": 14,
   "metadata": {},
   "outputs": [
    {
     "name": "stdout",
     "output_type": "stream",
     "text": [
      "['chrome', 'firefox', 'photos', 'zomato', 'swiggy', 'uber', 'drive', 'instagram', 'facebook', 'whatsapp', 'tinder']\n"
     ]
    }
   ],
   "source": [
    "apps.append('tinder')       #append function = to add new item to list\n",
    "print(apps)"
   ]
  },
  {
   "cell_type": "code",
   "execution_count": 15,
   "metadata": {},
   "outputs": [
    {
     "name": "stdout",
     "output_type": "stream",
     "text": [
      "['chrome', 'firefox', 'tinder', 'photos', 'zomato', 'swiggy', 'uber', 'drive', 'instagram', 'facebook', 'whatsapp', 'tinder']\n"
     ]
    }
   ],
   "source": [
    "apps.insert(2, 'tinder')        #insert function = use to insert item in list at any number\n",
    "print(apps)"
   ]
  },
  {
   "cell_type": "code",
   "execution_count": 23,
   "metadata": {},
   "outputs": [
    {
     "name": "stdout",
     "output_type": "stream",
     "text": [
      "['chrome', 'firefox', 'tinder', 'photos', 'swiggy', 'facebook', 'whatsapp', 'tinder']\n"
     ]
    }
   ],
   "source": [
    "apps.pop(5)\n",
    "print(apps)                         #pop = delete item using indexing"
   ]
  },
  {
   "cell_type": "code",
   "execution_count": 22,
   "metadata": {},
   "outputs": [
    {
     "name": "stdout",
     "output_type": "stream",
     "text": [
      "['chrome', 'firefox', 'tinder', 'photos', 'swiggy', 'instagram', 'facebook', 'whatsapp', 'tinder']\n"
     ]
    }
   ],
   "source": [
    "apps.remove('zomato')            #remove function = remove items without know their indexing(place value)\n",
    "print(apps)"
   ]
  },
  {
   "cell_type": "code",
   "execution_count": 24,
   "metadata": {},
   "outputs": [
    {
     "name": "stdout",
     "output_type": "stream",
     "text": [
      "['chrome', 'facebook', 'firefox', 'photos', 'swiggy', 'tinder', 'tinder', 'whatsapp']\n"
     ]
    }
   ],
   "source": [
    "apps.sort()              #sort function = sorting the list according alphabet order\n",
    "print(apps)"
   ]
  },
  {
   "cell_type": "code",
   "execution_count": 25,
   "metadata": {},
   "outputs": [
    {
     "name": "stdout",
     "output_type": "stream",
     "text": [
      "['chrome', 'facebook', 'firefox', 'photos', 'swiggy', 'tinder', 'tinder', 'whatsapp']\n"
     ]
    }
   ],
   "source": [
    "apps2 =apps.copy()\n",
    "print(apps2)\n"
   ]
  },
  {
   "cell_type": "code",
   "execution_count": 26,
   "metadata": {},
   "outputs": [
    {
     "name": "stdout",
     "output_type": "stream",
     "text": [
      "[]\n"
     ]
    }
   ],
   "source": [
    "apps.clear()\n",
    "print(apps)"
   ]
  },
  {
   "cell_type": "code",
   "execution_count": 27,
   "metadata": {},
   "outputs": [
    {
     "name": "stdout",
     "output_type": "stream",
     "text": [
      "['chrome', 'facebook', 'firefox', 'photos', 'swiggy', 'tinder', 'tinder', 'whatsapp', 'gpay', 'camera', 'maps']\n"
     ]
    }
   ],
   "source": [
    "apps3 = ['gpay','camera','maps']\n",
    "apps2.extend(apps3)\n",
    "print(apps2)"
   ]
  },
  {
   "cell_type": "code",
   "execution_count": 28,
   "metadata": {},
   "outputs": [
    {
     "name": "stdout",
     "output_type": "stream",
     "text": [
      "['chrome', 'facebook', 'firefox', 'photos', 'swiggy', 'tinder', 'tinder', 'whatsapp', 'gpay', 'camera', 'maps']\n"
     ]
    }
   ],
   "source": [
    "apps3 =['gpay','camera','maps']\n",
    "apps3.extend(apps2)\n",
    "print(apps2)"
   ]
  },
  {
   "cell_type": "markdown",
   "metadata": {},
   "source": [
    "\n",
    "#list comrehension\n"
   ]
  },
  {
   "cell_type": "code",
   "execution_count": 1,
   "metadata": {},
   "outputs": [
    {
     "name": "stdout",
     "output_type": "stream",
     "text": [
      "4\n",
      "16\n",
      "36\n",
      "64\n",
      "100\n"
     ]
    }
   ],
   "source": [
    "a = [2,4,6,8,10]\n",
    "for i in a:\n",
    "    print(i**2)"
   ]
  },
  {
   "cell_type": "code",
   "execution_count": 2,
   "metadata": {},
   "outputs": [
    {
     "name": "stdout",
     "output_type": "stream",
     "text": [
      "[4, 16, 36, 64, 100]\n"
     ]
    }
   ],
   "source": [
    "a = [2,4,6,8,10]\n",
    "lst= []\n",
    "for i in a:\n",
    "    lst.append(i**2)\n",
    "print(lst)"
   ]
  },
  {
   "cell_type": "code",
   "execution_count": 3,
   "metadata": {},
   "outputs": [
    {
     "name": "stdout",
     "output_type": "stream",
     "text": [
      "[4, 16, 36, 64, 100]\n"
     ]
    }
   ],
   "source": [
    "num = [2,4,6,8,10]\n",
    "square = [i**2 for i in num]   #list comprehension\n",
    "print(square)"
   ]
  },
  {
   "cell_type": "code",
   "execution_count": 4,
   "metadata": {},
   "outputs": [
    {
     "name": "stdout",
     "output_type": "stream",
     "text": [
      "[4, 8, 50, 10, 34, 54, 12]\n"
     ]
    }
   ],
   "source": [
    "x = [1,4,3,5,7,5,8,50,10,34,23,54,12]\n",
    "even_nums = [num for num in x if num%2==0]\n",
    "print(even_nums)"
   ]
  },
  {
   "cell_type": "code",
   "execution_count": 9,
   "metadata": {},
   "outputs": [
    {
     "name": "stdout",
     "output_type": "stream",
     "text": [
      "['HELLO', 'MY', 'NAME', 'IS', 'JOY']\n"
     ]
    }
   ],
   "source": [
    "words = ['hello','my','name','is','Joy']\n",
    "lst =[i.upper() for i in words]\n",
    "print(lst)"
   ]
  },
  {
   "cell_type": "code",
   "execution_count": null,
   "metadata": {},
   "outputs": [],
   "source": []
  }
 ],
 "metadata": {
  "kernelspec": {
   "display_name": "base",
   "language": "python",
   "name": "python3"
  },
  "language_info": {
   "codemirror_mode": {
    "name": "ipython",
    "version": 3
   },
   "file_extension": ".py",
   "mimetype": "text/x-python",
   "name": "python",
   "nbconvert_exporter": "python",
   "pygments_lexer": "ipython3",
   "version": "3.12.4"
  }
 },
 "nbformat": 4,
 "nbformat_minor": 2
}
